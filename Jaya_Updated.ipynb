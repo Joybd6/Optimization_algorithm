{
 "cells": [
  {
   "cell_type": "code",
   "execution_count": 1,
   "id": "c4eb401d",
   "metadata": {},
   "outputs": [],
   "source": [
    "import numpy as np"
   ]
  },
  {
   "cell_type": "code",
   "execution_count": 8,
   "id": "31e3a818",
   "metadata": {},
   "outputs": [],
   "source": [
    "class Jaya():\n",
    "    def __init__(self):\n",
    "        self.obj = None\n",
    "        self.population = None\n",
    "        self.dimension = None\n",
    "        self.ub = None\n",
    "        self.lb = None\n",
    "        self.optimization = \"maximize\"\n",
    "        self.max_iter = None\n",
    "        self.global_best_agent = None\n",
    "        \n",
    "    def compile(self,obj,pop_size,dimension,lb,ub,optimization=\"maximize\"):\n",
    "        self.obj = obj\n",
    "        self.population_size = pop_size\n",
    "        self.dimension = dimension\n",
    "        self.ub = ub\n",
    "        self.lb = lb\n",
    "        self.optimization=optimization\n",
    "        \n",
    "    def __initialize(self):\n",
    "        self.population = np.clip(np.random.rand(self.population_size,self.dimension),self.lb,self.ub)\n",
    "        self.ev_value = np.empty(self.population_size)\n",
    "        \n",
    "        for i,value in enumerate(self.population):\n",
    "            self.ev_value[i] = self.obj(value)\n",
    "        \n",
    "    def __update_best_worst(self):\n",
    "        max_id = np.argmax(self.ev_value)\n",
    "        min_id = np.argmin(self.ev_value)\n",
    "        \n",
    "        if self.optimization == \"maximize\":\n",
    "            self.best_agent = (self.population[max_id],self.ev_value[max_id])\n",
    "            self.worst_agent = (self.population[min_id],self.ev_value[min_id])\n",
    "        elif self.optimization == \"minimize\":\n",
    "            self.worst_agent = (self.population[max_id],self.ev_value[max_id])\n",
    "            self.best_agent = (self.population[min_id],self.ev_value[min_id])\n",
    "            \n",
    "    def __update_global_best(self):\n",
    "        if self.global_best_agent == None:\n",
    "            self.global_best_agent = self.best_agent\n",
    "        elif self.optimization == \"maximize\" and self.best_agent[1] > self.global_best_agent[1]:\n",
    "            self.global_best_agent = self.best_agent\n",
    "        elif self.optimization == \"minimize\" and self.best_agent[1] < self.global_best_agent[1]:\n",
    "            self.global_best_agent = self.best_agent\n",
    "           \n",
    "    def train(self,max_iter):\n",
    "        \n",
    "        self.__initialize()\n",
    "        self.__update_best_worst()\n",
    "        for i in range(max_iter):\n",
    "            \n",
    "            self.__update_best_worst()\n",
    "            self.__update_global_best()\n",
    "            r1 = np.random.rand(self.population_size,self.dimension)\n",
    "            r2 = np.random.rand(self.population_size,self.dimension)\n",
    "            population_updated = self.population + r1 * (self.best_agent[0] - np.abs(self.population)) - r2 * (self.worst_agent[0] - np.abs(self.population))\n",
    "            \n",
    "            \n",
    "            \n",
    "            self.population = np.clip(population_updated,lb,ub)\n",
    "            \n",
    "            for i,value in enumerate(self.population):\n",
    "                self.ev_value[i] = self.obj(value)     \n",
    "        return self.global_best_agent\n",
    "            "
   ]
  },
  {
   "cell_type": "code",
   "execution_count": 9,
   "id": "082adacd",
   "metadata": {},
   "outputs": [],
   "source": [
    "from benchmarking.benchmark import *\n",
    "function=[Sphere,Schwefel_2_22,Schwefel_1_2,Rosenbrock,Step,Quartic_with_noise,Ackley,SumSquare]\n"
   ]
  },
  {
   "cell_type": "code",
   "execution_count": 7,
   "id": "84a61b5a",
   "metadata": {
    "scrolled": true
   },
   "outputs": [
    {
     "name": "stdout",
     "output_type": "stream",
     "text": [
      "Sphere\t ==> Min = 41663.96113783932 Max = 66717.6917913425 Mean = 55284.130751138546\n",
      "Schwefel_2_22\t ==> Min = -9.999999999999999e+29 Max = -1.1155386146585538e+29 Mean = -5.3545208954595605e+29\n",
      "Schwefel_1_2\t ==> Min = 662669.6768064382 Max = 1340511.7899881355 Mean = 1079752.3276382936\n",
      "Rosenbrock\t ==> Min = 74831594.71175182 Max = 252283657.2182821 Mean = 179501755.54120886\n",
      "Step\t ==> Min = 37807.04764719771 Max = 65680.4502439344 Mean = 54716.209449727015\n",
      "Quartic_with_noise\t ==> Min = 1766637589.0963202 Max = 5152593573.628827 Mean = 3255741983.269941\n",
      "Ackley\t ==> Min = 19.678119137505508 Max = 20.076964064015687 Mean = 19.962966994614888\n",
      "SumSquare\t ==> Min = 4334.140522216574 Max = 9329.317803266262 Mean = 7603.140717286845\n"
     ]
    }
   ],
   "source": [
    "for i in function:\n",
    "    func=i()\n",
    "    values=np.empty(100)\n",
    "    for l in range(100):\n",
    "        lb = np.array([func.range[0]]).repeat(func.dim)\n",
    "        ub = np.array([func.range[1]]).repeat(func.dim)\n",
    "        jaya = Jaya()\n",
    "        jaya.compile(func.get_algorithm(),pop_size=100,dimension=func.dim,lb=lb,ub=ub,optimization = \"minimize\")\n",
    "        values[l]=jaya.train(100)[-1]\n",
    "    print(f\"{func.name}\\t ==> Min = {np.min(values)} Max = {np.max(values)} Mean = {np.mean(values)}\")"
   ]
  },
  {
   "cell_type": "code",
   "execution_count": null,
   "id": "52e7e951",
   "metadata": {},
   "outputs": [],
   "source": []
  }
 ],
 "metadata": {
  "kernelspec": {
   "display_name": "Python 3 (ipykernel)",
   "language": "python",
   "name": "python3"
  },
  "language_info": {
   "codemirror_mode": {
    "name": "ipython",
    "version": 3
   },
   "file_extension": ".py",
   "mimetype": "text/x-python",
   "name": "python",
   "nbconvert_exporter": "python",
   "pygments_lexer": "ipython3",
   "version": "3.8.10"
  }
 },
 "nbformat": 4,
 "nbformat_minor": 5
}
