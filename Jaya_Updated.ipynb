{
 "cells": [
  {
   "cell_type": "code",
   "execution_count": 10,
   "id": "39e930dc",
   "metadata": {},
   "outputs": [],
   "source": [
    "import numpy as np"
   ]
  },
  {
   "cell_type": "code",
   "execution_count": 168,
   "id": "cb7f41e8",
   "metadata": {},
   "outputs": [],
   "source": [
    "class Jaya():\n",
    "    def __init__(self):\n",
    "        self.obj = None\n",
    "        self.population = None\n",
    "        self.dimension = None\n",
    "        self.ub = None\n",
    "        self.lb = None\n",
    "        self.optimization = \"maximize\"\n",
    "        self.max_iter = None\n",
    "        self.global_best_agent = None\n",
    "        \n",
    "    def compile(self,obj,pop_size,dimension,lb,ub,optimization=\"maximize\"):\n",
    "        self.obj = obj\n",
    "        self.population_size = pop_size\n",
    "        self.dimension = dimension\n",
    "        self.ub = ub\n",
    "        self.lb = lb\n",
    "        self.optimization=optimization\n",
    "        \n",
    "    def __initialize(self):\n",
    "        self.population = np.clip(np.random.rand(self.population_size,self.dimension),self.lb,self.ub)\n",
    "        self.ev_value = np.empty(self.population_size)\n",
    "        \n",
    "        for i,value in enumerate(self.population):\n",
    "            self.ev_value[i] = self.obj(value)\n",
    "        \n",
    "    def __update_best_worst(self):\n",
    "        max_id = np.argmax(self.ev_value)\n",
    "        min_id = np.argmin(self.ev_value)\n",
    "        \n",
    "        if self.optimization == \"maximize\":\n",
    "            self.best_agent = (self.population[max_id],self.ev_value[max_id])\n",
    "            self.worst_agent = (self.population[min_id],self.ev_value[min_id])\n",
    "        elif self.optimization == \"minimize\":\n",
    "            self.worst_agent = (self.population[max_id],self.ev_value[max_id])\n",
    "            self.best_agent = (self.population[min_id],self.ev_value[min_id])\n",
    "            \n",
    "    def __update_global_best(self):\n",
    "        if self.global_best_agent == None:\n",
    "            self.global_best_agent = self.best_agent\n",
    "        elif self.optimization == \"maximize\" and self.best_agent[1] > self.global_best_agent[1]:\n",
    "            self.global_best_agent = self.best_agent\n",
    "        elif self.optimization == \"minimize\" and self.best_agent[1] < self.global_best_agent[1]:\n",
    "            self.global_best_agent = self.best_agent\n",
    "           \n",
    "    def train(self,max_iter):\n",
    "        \n",
    "        self.__initialize()\n",
    "        self.__update_best_worst()\n",
    "        for i in range(max_iter):\n",
    "            \n",
    "            self.__update_best_worst()\n",
    "            self.__update_global_best()\n",
    "            r1 = np.random.rand(self.population_size,self.dimension)\n",
    "            r2 = np.random.rand(self.population_size,self.dimension)\n",
    "            population_updated = self.population + r1 * (self.best_agent[0] - np.abs(self.population)) - r2 * (self.worst_agent[0] - np.abs(self.population))\n",
    "            \n",
    "            \n",
    "            \n",
    "            self.population = np.clip(population_updated,lb,ub)\n",
    "            \n",
    "            for i,value in enumerate(self.population):\n",
    "                self.ev_value[i] = self.obj(value)\n",
    "                \n",
    "        return self.global_best_agent\n",
    "            "
   ]
  },
  {
   "cell_type": "code",
   "execution_count": 169,
   "id": "3a55fa9b",
   "metadata": {},
   "outputs": [],
   "source": [
    "from benchmarking.benchmark import Sphere"
   ]
  },
  {
   "cell_type": "code",
   "execution_count": 170,
   "id": "ef81a857",
   "metadata": {},
   "outputs": [],
   "source": [
    "sphere = Sphere()\n",
    "lb = np.array([-100]).repeat(sphere.dim)\n",
    "ub = np.array([100]).repeat(sphere.dim)"
   ]
  },
  {
   "cell_type": "code",
   "execution_count": 171,
   "id": "e4c0432d",
   "metadata": {},
   "outputs": [],
   "source": [
    "jaya = Jaya()"
   ]
  },
  {
   "cell_type": "code",
   "execution_count": 176,
   "id": "a8ab73ef",
   "metadata": {},
   "outputs": [
    {
     "data": {
      "text/plain": [
       "(array([0.14490279, 0.08952558, 0.26408819, 0.23979058, 0.40667417,\n",
       "        0.56187604, 0.48836006, 0.39189869, 0.83664865, 0.72268234,\n",
       "        0.12595727, 0.64306436, 0.76974242, 0.96305777, 0.41094735,\n",
       "        0.9033642 , 0.53542389, 0.02880862, 0.34933334, 0.64255408,\n",
       "        0.83251   , 0.065771  , 0.00453841, 0.59020828, 0.12406362,\n",
       "        0.23770095, 0.38391801, 0.83451914, 0.41548323, 0.11706808]),\n",
       " 8.156221755025639)"
      ]
     },
     "execution_count": 176,
     "metadata": {},
     "output_type": "execute_result"
    }
   ],
   "source": [
    "jaya = Jaya()\n",
    "jaya.compile(sphere.get_algorithm(),pop_size=2,dimension=sphere.dim,lb=lb,ub=ub,optimization = \"minimize\")\n",
    "jaya.train(10)"
   ]
  },
  {
   "cell_type": "code",
   "execution_count": null,
   "id": "14771651",
   "metadata": {},
   "outputs": [],
   "source": []
  }
 ],
 "metadata": {
  "kernelspec": {
   "display_name": "Python 3 (ipykernel)",
   "language": "python",
   "name": "python3"
  },
  "language_info": {
   "codemirror_mode": {
    "name": "ipython",
    "version": 3
   },
   "file_extension": ".py",
   "mimetype": "text/x-python",
   "name": "python",
   "nbconvert_exporter": "python",
   "pygments_lexer": "ipython3",
   "version": "3.10.9"
  }
 },
 "nbformat": 4,
 "nbformat_minor": 5
}
