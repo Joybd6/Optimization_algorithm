{
 "cells": [
  {
   "cell_type": "code",
   "execution_count": 1,
   "id": "c4eb401d",
   "metadata": {},
   "outputs": [],
   "source": [
    "import numpy as np"
   ]
  },
  {
   "cell_type": "code",
   "execution_count": 2,
   "id": "31e3a818",
   "metadata": {},
   "outputs": [],
   "source": [
    "class Jaya():\n",
    "    def __init__(self):\n",
    "        self.obj = None\n",
    "        self.population = None\n",
    "        self.dimension = None\n",
    "        self.ub = None\n",
    "        self.lb = None\n",
    "        self.optimization = \"maximize\"\n",
    "        self.max_iter = None\n",
    "        self.global_best_agent = None\n",
    "        \n",
    "    def compile(self,obj,pop_size,dimension,lb,ub,optimization=\"maximize\"):\n",
    "        self.obj = obj\n",
    "        self.population_size = pop_size\n",
    "        self.dimension = dimension\n",
    "        self.ub = ub\n",
    "        self.lb = lb\n",
    "        self.optimization=optimization\n",
    "        \n",
    "    def __initialize(self):\n",
    "        self.population = np.clip(np.random.rand(self.population_size,self.dimension),self.lb,self.ub)\n",
    "        self.ev_value = np.empty(self.population_size)\n",
    "        \n",
    "        for i,value in enumerate(self.population):\n",
    "            self.ev_value[i] = self.obj(value)\n",
    "        \n",
    "    def __update_best_worst(self):\n",
    "        max_id = np.argmax(self.ev_value)\n",
    "        min_id = np.argmin(self.ev_value)\n",
    "        \n",
    "        if self.optimization == \"maximize\":\n",
    "            self.best_agent = (self.population[max_id],self.ev_value[max_id])\n",
    "            self.worst_agent = (self.population[min_id],self.ev_value[min_id])\n",
    "        elif self.optimization == \"minimize\":\n",
    "            self.worst_agent = (self.population[max_id],self.ev_value[max_id])\n",
    "            self.best_agent = (self.population[min_id],self.ev_value[min_id])\n",
    "            \n",
    "    def __update_global_best(self):\n",
    "        if self.global_best_agent == None:\n",
    "            self.global_best_agent = self.best_agent\n",
    "        elif self.optimization == \"maximize\" and self.best_agent[1] > self.global_best_agent[1]:\n",
    "            self.global_best_agent = self.best_agent\n",
    "        elif self.optimization == \"minimize\" and self.best_agent[1] < self.global_best_agent[1]:\n",
    "            self.global_best_agent = self.best_agent\n",
    "           \n",
    "    def train(self,max_iter):\n",
    "        \n",
    "        self.__initialize()\n",
    "        self.__update_best_worst()\n",
    "        for i in range(max_iter):\n",
    "            \n",
    "            self.__update_best_worst()\n",
    "            self.__update_global_best()\n",
    "            r1 = np.random.rand(self.population_size,self.dimension)\n",
    "            r2 = np.random.rand(self.population_size,self.dimension)\n",
    "            population_updated = self.population + r1 * (self.best_agent[0] - np.abs(self.population)) - r2 * (self.worst_agent[0] - np.abs(self.population))\n",
    "            \n",
    "            \n",
    "            \n",
    "            self.population = np.clip(population_updated,lb,ub)\n",
    "            \n",
    "            for i,value in enumerate(self.population):\n",
    "                self.ev_value[i] = self.obj(value)     \n",
    "        return self.global_best_agent\n",
    "            "
   ]
  },
  {
   "cell_type": "code",
   "execution_count": 3,
   "id": "082adacd",
   "metadata": {},
   "outputs": [],
   "source": [
    "from benchmarking.benchmark import *\n",
    "function=[Sphere,Schwefel_2_22,Schwefel_1_2,Rosenbrock,Step,Quartic_with_noise,Ackley,SumSquare]\n"
   ]
  },
  {
   "cell_type": "code",
   "execution_count": 5,
   "id": "84a61b5a",
   "metadata": {},
   "outputs": [
    {
     "name": "stdout",
     "output_type": "stream",
     "text": [
      "Sphere\t ==> Min = 2.675878513351252 Max = 5.999913956402348 Mean = 4.256207176084625\n",
      "Schwefel_2_22\t ==> Min = -9.999999999999999e+29 Max = -1.2278587720525254e+29 Mean = -5.191988759103761e+29\n",
      "Schwefel_1_2\t ==> Min = 78.12023839995122 Max = 604.0510075984497 Mean = 208.70670105349356\n",
      "Rosenbrock\t ==> Min = 290.51799128207296 Max = 396.68468422067656 Mean = 336.6324630285438\n",
      "Step\t ==> Min = 8.092118427699807 Max = 16.23563751227735 Mean = 11.197343365838721\n",
      "Quartic_with_noise\t ==> Min = 22.809942513658214 Max = 55.54994751740249 Mean = 35.60112661137922\n",
      "Ackley\t ==> Min = 2.7036659088179964 Max = 3.3724744310274812 Mean = 3.051022665817203\n",
      "SumSquare\t ==> Min = 46.49018976688197 Max = 78.77051985830745 Mean = 59.59225876499098\n"
     ]
    }
   ],
   "source": [
    "for i in function:\n",
    "    func=i()\n",
    "    values=np.empty(30)\n",
    "    for l in range(30):\n",
    "        lb = np.array([func.range[0]]).repeat(func.dim)\n",
    "        ub = np.array([func.range[1]]).repeat(func.dim)\n",
    "        jaya = Jaya()\n",
    "        jaya.compile(func.get_algorithm(),pop_size=100,dimension=func.dim,lb=lb,ub=ub,optimization = \"minimize\")\n",
    "        values[l]=jaya.train(100)[-1]\n",
    "    print(f\"{func.name}\\t ==> Min = {np.min(values)} Max = {np.max(values)} Mean = {np.mean(values)}\")"
   ]
  },
  {
   "cell_type": "code",
   "execution_count": null,
   "id": "52e7e951",
   "metadata": {},
   "outputs": [],
   "source": []
  }
 ],
 "metadata": {
  "kernelspec": {
   "display_name": "Python 3 (ipykernel)",
   "language": "python",
   "name": "python3"
  },
  "language_info": {
   "codemirror_mode": {
    "name": "ipython",
    "version": 3
   },
   "file_extension": ".py",
   "mimetype": "text/x-python",
   "name": "python",
   "nbconvert_exporter": "python",
   "pygments_lexer": "ipython3",
   "version": "3.8.10"
  }
 },
 "nbformat": 4,
 "nbformat_minor": 5
}
