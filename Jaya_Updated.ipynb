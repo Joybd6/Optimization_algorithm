{
 "cells": [
  {
   "cell_type": "code",
   "execution_count": 10,
   "id": "c4eb401d",
   "metadata": {},
   "outputs": [],
   "source": [
    "import numpy as np"
   ]
  },
  {
   "cell_type": "code",
   "execution_count": 188,
   "id": "31e3a818",
   "metadata": {},
   "outputs": [],
   "source": [
    "class Jaya():\n",
    "    def __init__(self):\n",
    "        self.obj = None\n",
    "        self.population = None\n",
    "        self.dimension = None\n",
    "        self.ub = None\n",
    "        self.lb = None\n",
    "        self.optimization = \"maximize\"\n",
    "        self.max_iter = None\n",
    "        self.global_best_agent = None\n",
    "        \n",
    "    def compile(self,obj,pop_size,dimension,lb,ub,optimization=\"maximize\"):\n",
    "        self.obj = obj\n",
    "        self.population_size = pop_size\n",
    "        self.dimension = dimension\n",
    "        self.ub = ub\n",
    "        self.lb = lb\n",
    "        self.optimization=optimization\n",
    "        \n",
    "    def __initialize(self):\n",
    "        self.population = np.clip(np.random.rand(self.population_size,self.dimension),self.lb,self.ub)\n",
    "        self.ev_value = np.empty(self.population_size)\n",
    "        \n",
    "        for i,value in enumerate(self.population):\n",
    "            self.ev_value[i] = self.obj(value)\n",
    "        \n",
    "    def __update_best_worst(self):\n",
    "        max_id = np.argmax(self.ev_value)\n",
    "        min_id = np.argmin(self.ev_value)\n",
    "        \n",
    "        if self.optimization == \"maximize\":\n",
    "            self.best_agent = (self.population[max_id],self.ev_value[max_id])\n",
    "            self.worst_agent = (self.population[min_id],self.ev_value[min_id])\n",
    "        elif self.optimization == \"minimize\":\n",
    "            self.worst_agent = (self.population[max_id],self.ev_value[max_id])\n",
    "            self.best_agent = (self.population[min_id],self.ev_value[min_id])\n",
    "            \n",
    "    def __update_global_best(self):\n",
    "        if self.global_best_agent == None:\n",
    "            self.global_best_agent = self.best_agent\n",
    "        elif self.optimization == \"maximize\" and self.best_agent[1] > self.global_best_agent[1]:\n",
    "            self.global_best_agent = self.best_agent\n",
    "        elif self.optimization == \"minimize\" and self.best_agent[1] < self.global_best_agent[1]:\n",
    "            self.global_best_agent = self.best_agent\n",
    "           \n",
    "    def train(self,max_iter):\n",
    "        \n",
    "        self.__initialize()\n",
    "        self.__update_best_worst()\n",
    "        for i in range(max_iter):\n",
    "            \n",
    "            self.__update_best_worst()\n",
    "            self.__update_global_best()\n",
    "            r1 = np.random.rand(self.population_size,self.dimension)\n",
    "            r2 = np.random.rand(self.population_size,self.dimension)\n",
    "            population_updated = self.population + r1 * (self.best_agent[0] - np.abs(self.population)) - r2 * (self.worst_agent[0] - np.abs(self.population))\n",
    "            \n",
    "            \n",
    "            \n",
    "            self.population = np.clip(population_updated,lb,ub)\n",
    "            \n",
    "            for i,value in enumerate(self.population):\n",
    "                self.ev_value[i] = self.obj(value)\n",
    "                \n",
    "        return self.global_best_agent\n",
    "            "
   ]
  },
  {
   "cell_type": "code",
   "execution_count": 189,
   "id": "164a704c",
   "metadata": {},
   "outputs": [],
   "source": [
    "from benchmarking.benchmark import Sphere"
   ]
  },
  {
   "cell_type": "code",
   "execution_count": 190,
   "id": "76d3a1cb",
   "metadata": {},
   "outputs": [],
   "source": [
    "sphere = Sphere()\n",
    "lb = np.array([sphere.range[0]]).repeat(sphere.dim)\n",
    "ub = np.array([sphere.range[1]]).repeat(sphere.dim)"
   ]
  },
  {
   "cell_type": "code",
   "execution_count": 191,
   "id": "12bad0d2",
   "metadata": {},
   "outputs": [],
   "source": [
    "from benchmarking.benchmark import Schwefel_2_22"
   ]
  },
  {
   "cell_type": "code",
   "execution_count": 192,
   "id": "9b683c9a",
   "metadata": {},
   "outputs": [],
   "source": [
    "schwefel_2_22 = Schwefel_2_22()\n",
    "lb = np.array([schwefel_2_22.range[0]]).repeat(sphere.dim)\n",
    "ub = np.array([schwefel_2_22.range[1]]).repeat(sphere.dim)"
   ]
  },
  {
   "cell_type": "code",
   "execution_count": 193,
   "id": "7a720b45",
   "metadata": {},
   "outputs": [],
   "source": [
    "jaya = Jaya()\n"
   ]
  },
  {
   "cell_type": "code",
   "execution_count": 197,
   "id": "c5166cac",
   "metadata": {},
   "outputs": [
    {
     "data": {
      "text/plain": [
       "(array([ 10.        ,   9.37669942,   9.6083811 ,   9.96377665,\n",
       "         10.        ,   9.99988585,   8.93041704,  10.        ,\n",
       "          8.43728261,   9.99796189,  10.        ,  10.        ,\n",
       "          8.46908615,   9.99935466,  10.        , -10.        ,\n",
       "         10.        ,  10.        , -10.        ,   9.99992537,\n",
       "         -9.4126685 ,   9.69624101,  10.        ,   7.34254844,\n",
       "          8.5072896 ,  10.        ,  10.        ,  10.        ,\n",
       "          9.86996267,   8.34655296]),\n",
       " -2.689596942924744e+29)"
      ]
     },
     "execution_count": 197,
     "metadata": {},
     "output_type": "execute_result"
    }
   ],
   "source": [
    "jaya = Jaya()\n",
    "jaya.compile(schwefel_2_22.get_algorithm(),pop_size=10,dimension=sphere.dim,lb=lb,ub=ub,optimization = \"minimize\")\n",
    "jaya.train(100)"
   ]
  },
  {
   "cell_type": "code",
   "execution_count": null,
   "id": "082adacd",
   "metadata": {},
   "outputs": [],
   "source": []
  }
 ],
 "metadata": {
  "kernelspec": {
   "display_name": "Python 3 (ipykernel)",
   "language": "python",
   "name": "python3"
  },
  "language_info": {
   "codemirror_mode": {
    "name": "ipython",
    "version": 3
   },
   "file_extension": ".py",
   "mimetype": "text/x-python",
   "name": "python",
   "nbconvert_exporter": "python",
   "pygments_lexer": "ipython3",
   "version": "3.10.9"
  }
 },
 "nbformat": 4,
 "nbformat_minor": 5
}
