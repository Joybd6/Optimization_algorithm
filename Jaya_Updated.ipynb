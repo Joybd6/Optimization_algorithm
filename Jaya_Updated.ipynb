{
 "cells": [
  {
   "cell_type": "code",
   "execution_count": 1,
   "id": "c4eb401d",
   "metadata": {},
   "outputs": [],
   "source": [
    "import numpy as np"
   ]
  },
  {
   "cell_type": "code",
   "execution_count": 2,
   "id": "31e3a818",
   "metadata": {},
   "outputs": [],
   "source": [
    "class Jaya():\n",
    "    def __init__(self):\n",
    "        self.obj = None\n",
    "        self.population = None\n",
    "        self.dimension = None\n",
    "        self.ub = None\n",
    "        self.lb = None\n",
    "        self.optimization = \"maximize\"\n",
    "        self.max_iter = None\n",
    "        self.global_best_agent = None\n",
    "        \n",
    "    def compile(self,obj,pop_size,dimension,lb,ub,optimization=\"maximize\"):\n",
    "        self.obj = obj\n",
    "        self.population_size = pop_size\n",
    "        self.dimension = dimension\n",
    "        self.ub = ub\n",
    "        self.lb = lb\n",
    "        self.optimization=optimization\n",
    "        \n",
    "    def __initialize(self):\n",
    "        self.population = np.clip(np.random.rand(self.population_size,self.dimension),self.lb,self.ub)\n",
    "        self.ev_value = np.empty(self.population_size)\n",
    "        \n",
    "        for i,value in enumerate(self.population):\n",
    "            self.ev_value[i] = self.obj(value)\n",
    "        \n",
    "    def __update_best_worst(self):\n",
    "        max_id = np.argmax(self.ev_value)\n",
    "        min_id = np.argmin(self.ev_value)\n",
    "        \n",
    "        if self.optimization == \"maximize\":\n",
    "            self.best_agent = (self.population[max_id],self.ev_value[max_id])\n",
    "            self.worst_agent = (self.population[min_id],self.ev_value[min_id])\n",
    "        elif self.optimization == \"minimize\":\n",
    "            self.worst_agent = (self.population[max_id],self.ev_value[max_id])\n",
    "            self.best_agent = (self.population[min_id],self.ev_value[min_id])\n",
    "            \n",
    "    def __update_global_best(self):\n",
    "        if self.global_best_agent == None:\n",
    "            self.global_best_agent = self.best_agent\n",
    "        elif self.optimization == \"maximize\" and self.best_agent[1] > self.global_best_agent[1]:\n",
    "            self.global_best_agent = self.best_agent\n",
    "        elif self.optimization == \"minimize\" and self.best_agent[1] < self.global_best_agent[1]:\n",
    "            self.global_best_agent = self.best_agent\n",
    "           \n",
    "    def train(self,max_iter):\n",
    "        \n",
    "        self.__initialize()\n",
    "        self.__update_best_worst()\n",
    "        for i in range(max_iter):\n",
    "            \n",
    "            self.__update_best_worst()\n",
    "            self.__update_global_best()\n",
    "            r1 = np.random.rand(self.population_size,self.dimension)\n",
    "            r2 = np.random.rand(self.population_size,self.dimension)\n",
    "            population_updated = self.population + r1 * (self.best_agent[0] - np.abs(self.population)) - r2 * (self.worst_agent[0] - np.abs(self.population))\n",
    "            \n",
    "            \n",
    "            \n",
    "            self.population = np.clip(population_updated,lb,ub)\n",
    "            \n",
    "            for i,value in enumerate(self.population):\n",
    "                self.ev_value[i] = self.obj(value)     \n",
    "        return self.global_best_agent\n",
    "            "
   ]
  },
  {
   "cell_type": "code",
   "execution_count": 12,
   "id": "082adacd",
   "metadata": {},
   "outputs": [],
   "source": [
    "from benchmarking.benchmark import *\n",
    "function=[Sphere,Schwefel_1_2,Rosenbrock,Ackley,SumSquare]\n"
   ]
  },
  {
   "cell_type": "code",
   "execution_count": 19,
   "id": "84a61b5a",
   "metadata": {},
   "outputs": [
    {
     "name": "stdout",
     "output_type": "stream",
     "text": [
      "Sphere\t ==> Min = 5.307041577199469 Max = 9.564478360303445 Mean = 7.076345158824197\n",
      "Schwefel_1_2\t ==> Min = 183.6309718496918 Max = 1388.4874913014648 Mean = 702.2592359841509\n",
      "Rosenbrock\t ==> Min = 325.29673894195406 Max = 504.59488187977536 Mean = 400.76859878434306\n",
      "Ackley\t ==> Min = 3.1154571495509065 Max = 3.735546495032786 Mean = 3.494417873139751\n",
      "SumSquare\t ==> Min = 69.17509671347652 Max = 130.16389573409995 Mean = 101.11979661519159\n"
     ]
    }
   ],
   "source": [
    "for i in function:\n",
    "    func=i()\n",
    "    values=np.empty(30)\n",
    "    for l in range(30):\n",
    "        lb = np.array([func.range[0]]).repeat(func.dim)\n",
    "        ub = np.array([func.range[1]]).repeat(func.dim)\n",
    "        jaya = Jaya()\n",
    "        jaya.compile(func.get_algorithm(),pop_size=10,dimension=func.dim,lb=lb,ub=ub,optimization = \"minimize\")\n",
    "        values[l]=jaya.train(100)[-1]\n",
    "    print(f\"{func.name}\\t ==> Min = {np.min(values)} Max = {np.max(values)} Mean = {np.mean(values)}\")"
   ]
  },
  {
   "cell_type": "code",
   "execution_count": null,
   "id": "52e7e951",
   "metadata": {},
   "outputs": [],
   "source": []
  }
 ],
 "metadata": {
  "kernelspec": {
   "display_name": "Python 3 (ipykernel)",
   "language": "python",
   "name": "python3"
  },
  "language_info": {
   "codemirror_mode": {
    "name": "ipython",
    "version": 3
   },
   "file_extension": ".py",
   "mimetype": "text/x-python",
   "name": "python",
   "nbconvert_exporter": "python",
   "pygments_lexer": "ipython3",
   "version": "3.8.10"
  }
 },
 "nbformat": 4,
 "nbformat_minor": 5
}
