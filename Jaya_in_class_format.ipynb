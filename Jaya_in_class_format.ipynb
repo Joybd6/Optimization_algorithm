{
 "cells": [
  {
   "cell_type": "code",
   "execution_count": null,
   "metadata": {
    "id": "_67YRjZ5Gi0b"
   },
   "outputs": [],
   "source": [
    "import random\n",
    "import numpy as np\n",
    "\n",
    "class Jaya:\n",
    "    def __init__(self, p, d, termination, ub, lb):\n",
    "        self.f_x = []\n",
    "        self.k_x = []\n",
    "        self.p = p\n",
    "        self.d = d\n",
    "        self.termination = termination\n",
    "        self.ub = ub\n",
    "        self.lb = lb\n",
    "\n",
    "    def generate_random(self, min_bound, max_bound, dimension):\n",
    "        return [random.uniform(min_bound, max_bound) for _ in range(dimension)]\n",
    "\n",
    "    def evaluate(self, xx):\n",
    "        d = len(xx)\n",
    "        int_sum = 0\n",
    "        for i in range(d):\n",
    "            int_sum += xx[i]**2\n",
    "        return int_sum\n",
    "\n",
    "    def find_sol(self):\n",
    "        print(\"Initial values:\")\n",
    "        for i in range(self.p):\n",
    "            gr = self.generate_random(self.ub, self.lb, self.d)\n",
    "            self.k_x.append(gr)\n",
    "            ev = self.evaluate(gr)\n",
    "            self.f_x.append(ev)\n",
    "            print(i, \":\\t\", gr, ev)\n",
    "        return self.f_x, self.k_x\n",
    "\n",
    "    def jaya(self):\n",
    "        for iter in range(self.termination):\n",
    "            k_x2 = []\n",
    "            f_x2 = []\n",
    "            max_sol = max(self.f_x)\n",
    "            min_sol = min(self.f_x)\n",
    "            index_min = self.f_x.index(min_sol)\n",
    "            index_max = self.f_x.index(max_sol)\n",
    "            x_max = self.k_x[index_max]\n",
    "            x_min = self.k_x[index_min]\n",
    "            for i in self.k_x:\n",
    "                temp_list = []\n",
    "                m = 0\n",
    "                for j in i:\n",
    "                    new_x1 = j + (np.random.uniform(0, 1) * (x_min[m] - np.abs(j))) - (\n",
    "                        np.random.uniform(0, 1) * (x_max[m] - np.abs(j)))\n",
    "                    temp_list.append(new_x1)\n",
    "                    m += 1\n",
    "                k_x2.append(temp_list)\n",
    "\n",
    "            for i in k_x2:\n",
    "                ev = self.evaluate(i)\n",
    "                f_x2.append(ev)\n",
    "\n",
    "            for i in range(self.p):\n",
    "                if self.f_x[i] > f_x2[i]:\n",
    "                    self.f_x[i] = f_x2[i]\n",
    "                    self.k_x[i] = k_x2[i]\n",
    "        print(\"Updated final:\")\n",
    "        for i in range(self.p):\n",
    "          print(i,\":\\t\",self.k_x[i],self.f_x[i])\n",
    "        return self.f_x, self.k_x\n",
    "\n",
    "\n"
   ]
  },
  {
   "cell_type": "code",
   "execution_count": null,
   "metadata": {
    "colab": {
     "base_uri": "https://localhost:8080/"
    },
    "id": "iwsybGmqGp1G",
    "outputId": "923a6eff-4587-4aa7-8de5-791946902cde"
   },
   "outputs": [
    {
     "name": "stdout",
     "output_type": "stream",
     "text": [
      "Initial values:\n",
      "0 :\t [-7.987040868241664, 33.78018654331447, -31.86307822664557] 2220.1495788094217\n",
      "1 :\t [77.39178989710076, -99.47825082885936, 90.75501751750971] 24121.884736049942\n",
      "2 :\t [11.292545439398125, 26.5347636190139, 37.9940979059352] 2275.1667385036044\n",
      "3 :\t [-3.5384034471338595, 14.190975302453694, -55.33442025433615] 3275.802143873026\n",
      "4 :\t [19.205676669464694, -49.67219344902168, 96.92570524672523] 12230.777155944112\n",
      "Updated final:\n",
      "0 :\t [5.708822204388719, 8.790773149475982, 0.025787511893280435] 109.86900852263918\n",
      "1 :\t [7.669038783526887, 16.65084943812853, 1.4216781140633628] 338.08611153447157\n",
      "2 :\t [16.77785988208653, 10.653890710692846, -7.461715701928213] 450.67917071471805\n",
      "3 :\t [7.19119217870243, 10.073535735916954, 1.0325008310510837] 154.2554251399481\n",
      "4 :\t [7.749529665058428, 10.31962644502312, -7.873371303652667] 228.5398756796224\n"
     ]
    }
   ],
   "source": [
    "# Values are initialized here\n",
    "jaya = Jaya(p=5, d=3, termination=10, ub=100, lb=-100)\n",
    "jaya.find_sol()\n",
    "final_f_x, final_k_x = jaya.jaya()\n"
   ]
  },
  {
   "cell_type": "code",
   "execution_count": null,
   "metadata": {
    "id": "nb4Gp6XgXAmW"
   },
   "outputs": [],
   "source": []
  }
 ],
 "metadata": {
  "colab": {
   "provenance": []
  },
  "kernelspec": {
   "display_name": "Python 3",
   "language": "python",
   "name": "python3"
  },
  "language_info": {
   "codemirror_mode": {
    "name": "ipython",
    "version": 3
   },
   "file_extension": ".py",
   "mimetype": "text/x-python",
   "name": "python",
   "nbconvert_exporter": "python",
   "pygments_lexer": "ipython3",
   "version": "3.8.10"
  }
 },
 "nbformat": 4,
 "nbformat_minor": 1
}
