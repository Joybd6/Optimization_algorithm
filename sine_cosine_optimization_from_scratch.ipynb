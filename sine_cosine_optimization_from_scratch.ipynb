{
 "cells": [
  {
   "cell_type": "code",
   "execution_count": 131,
   "id": "b87add77",
   "metadata": {},
   "outputs": [],
   "source": [
    "import numpy as np"
   ]
  },
  {
   "cell_type": "code",
   "execution_count": null,
   "id": "db822bc2",
   "metadata": {},
   "outputs": [],
   "source": [
    "class SineCosineOptimization():\n",
    "    def __init__(self):\n",
    "        ...\n",
    "        \n",
    "    def compile(self,)"
   ]
  },
  {
   "cell_type": "code",
   "execution_count": 132,
   "id": "1e5ce1c1",
   "metadata": {},
   "outputs": [],
   "source": [
    "## Population Initialization function\n",
    "def initialize_population(population_size,dim,lb,ub):\n",
    "    return lb+np.random.rand(population_size,dim)*(ub-lb)\n",
    "\n",
    "\n",
    "## Function to update the value of R\n",
    "def update_R(current_iter,max_iter,a):\n",
    "    r1 = a-a*(current_iter/max_iter)\n",
    "    r2 = 2*np.pi*np.random.rand()\n",
    "    r3 = np.random.rand()\n",
    "    r4 = np.random.rand()\n",
    "    \n",
    "    return r1,r2,r3,r4\n",
    "\n",
    "## Function to update the population for the next iteration\n",
    "def update_population(populations,fittest_candidate,r1,r2,r3,r4,lb,ub):\n",
    "    if r4 < 0.5:\n",
    "        populations = populations + r1*np.sin(r2)*np.abs(r3*fittest_candidate-populations)\n",
    "    else:\n",
    "        populations = populations + r1*np.cos(r2)*np.abs(r3*fittest_candidate-populations)\n",
    "    \n",
    "    return np.clip(populations,lb,ub)\n"
   ]
  },
  {
   "cell_type": "code",
   "execution_count": 133,
   "id": "409f7e0c",
   "metadata": {},
   "outputs": [],
   "source": [
    "## This is the sine cosine optimization function\n",
    "\n",
    "def sine_cosine_optimization(objective_function,lower_bound,upper_bound,dimension,optimization=\"maximize\",\n",
    "                            population_size=100,max_iter=50,a=2):\n",
    "    \n",
    "    #Initialize the variable for  fittest candidate\n",
    "    fittest_candidate=None\n",
    "    candidate_evaluations = np.empty([population_size])\n",
    "    \n",
    "    #Initialize the random population\n",
    "    populations = initialize_population(population_size,dimension,lower_bound,upper_bound)\n",
    "    \n",
    "    ## This is the iteration loop.\n",
    "    for i in range(max_iter):\n",
    "        \n",
    "        ## This loop will go through the all population of candidate and process them one by one\n",
    "        for j in range(populations.shape[0]):\n",
    "            candidate_evaluations[j]=objective_function(populations[j,:])\n",
    "        \n",
    "        \n",
    "        ## Determining the fittest candidate\n",
    "        if optimization == \"maximize\":\n",
    "            fittest_indice = np.argmax(candidate_evaluations)\n",
    "        elif optimization == \"minimize\":\n",
    "            fittest_indice = np.argmin(candidate_evaluations)\n",
    "        \n",
    "        \n",
    "        ## Updating the fittest candidate\n",
    "        \n",
    "        if fittest_candidate == None:\n",
    "            fittest_candidate = (populations[fittest_indice,:],candidate_evaluations[fittest_indice])\n",
    "        else:\n",
    "            current_fittest = (populations[fittest_indice,:],candidate_evaluations[fittest_indice])\n",
    "            if optimization == \"maximize\" and fittest_candidate[1] < current_fittest[1]:\n",
    "                fittest_candidate = current_fittest\n",
    "                \n",
    "            if optimization == \"minimize\" and fittest_candidate[1] > current_fittest[1]:\n",
    "                fittest_candidate = current_fittest\n",
    "        \n",
    "        ## Updating the value of r1,r2,r3, and r4\n",
    "        r1,r2,r3,r4 = update_R(i,max_iter,a)\n",
    "        \n",
    "        ## Update the population\n",
    "        \n",
    "        populations = update_population(populations,fittest_candidate[0],r1,r2,r3,r4,lower_bound,upper_bound)\n",
    "    \n",
    "    return fittest_candidate\n",
    "    "
   ]
  },
  {
   "cell_type": "markdown",
   "id": "2003d5a4",
   "metadata": {},
   "source": [
    "### Testing the Algorithm"
   ]
  },
  {
   "cell_type": "code",
   "execution_count": 134,
   "id": "c358f124",
   "metadata": {},
   "outputs": [],
   "source": [
    "def obj_f(x):\n",
    "    return x[0]/x[1]+x[1]+x[2]"
   ]
  },
  {
   "cell_type": "code",
   "execution_count": 140,
   "id": "0ced21de",
   "metadata": {},
   "outputs": [
    {
     "name": "stdout",
     "output_type": "stream",
     "text": [
      "(array([1.48939497e-14, 2.37977963e-31, 1.41858642e-12]), 6.2585415522577624e+16)\n"
     ]
    }
   ],
   "source": [
    "lb = np.array([-100,-100,-100])\n",
    "ub = np.array([100,100,100])\n",
    "dimension = 3\n",
    "max_iter=500\n",
    "population_size=500\n",
    "answer = sine_cosine_optimization(obj_f,lb,ub,dimension,population_size=population_size,max_iter=max_iter)\n",
    "print(answer)"
   ]
  },
  {
   "cell_type": "code",
   "execution_count": null,
   "id": "6368f40c",
   "metadata": {},
   "outputs": [],
   "source": []
  }
 ],
 "metadata": {
  "kernelspec": {
   "display_name": "Python 3",
   "language": "python",
   "name": "python3"
  },
  "language_info": {
   "codemirror_mode": {
    "name": "ipython",
    "version": 3
   },
   "file_extension": ".py",
   "mimetype": "text/x-python",
   "name": "python",
   "nbconvert_exporter": "python",
   "pygments_lexer": "ipython3",
   "version": "3.8.10"
  }
 },
 "nbformat": 4,
 "nbformat_minor": 5
}
