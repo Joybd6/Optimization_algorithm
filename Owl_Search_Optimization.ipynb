{
 "cells": [
  {
   "cell_type": "code",
   "execution_count": 3,
   "id": "abb7a9dd",
   "metadata": {},
   "outputs": [],
   "source": [
    "import numpy as np"
   ]
  },
  {
   "cell_type": "code",
   "execution_count": 4,
   "id": "6b9932d3",
   "metadata": {},
   "outputs": [],
   "source": [
    "class OwlOptimization():\n",
    "    def __init__(self):\n",
    "        ...\n",
    "    \n",
    "    def compile(self,obj,dimension,lb,ub,population_size=100,max_iter=100,optimization=\"maximize\"):\n",
    "        self.objective_function = obj\n",
    "        self.dimension = dimension\n",
    "        self.lb=lb\n",
    "        self.ub=ub\n",
    "        self.max_iter = max_iter\n",
    "        self.optimization = optimization\n",
    "        self.population_size=population_size\n",
    "    \n",
    "    def __initialize_population(self,owl_num,dim,lb,ub):\n",
    "        return lb+np.random.uniform(0,1,size=(owl_num,dim))*(ub-lb)\n",
    "    \n",
    "    def __normalization_intensity(self,fitness_of_owl):\n",
    "      # Find minimun and maximum value\n",
    "        b_max = np.amax(fitness_of_owl,axis=-1)[...,np.newaxis]\n",
    "        w_min = np.amin(fitness_of_owl,axis=-1)[...,np.newaxis]\n",
    "\n",
    "\n",
    "      # Return normalization intensity of owl position by equation 4\n",
    "        return (fitness_of_owl - w_min)/(b_max - w_min)\n",
    "    \n",
    "    \n",
    "    def __prey_distance(self,owl_info, prey_info):\n",
    "        return np.linalg.norm(owl_info - prey_info,axis=-1)\n",
    "    \n",
    "    def __change_intensity_owl_loc(self,intensity_owl_loc, distance_info_R):\n",
    "\n",
    "        return ((intensity_owl_loc)/(distance_info_R**2+0.02)) + np.random.normal(0,1)\n",
    "    \n",
    "            \n",
    "    def __linearly_dec_constant(self,crnt, max_num, range_min=0, range_max=1.9):\n",
    "        return (crnt-range_min) / (max_num-range_min) * range_max\n",
    "    \n",
    "    \n",
    "    def __update_owl_loc(self,alpha, beta, owl_locations, prey_loc_v, intensity_ICi):\n",
    "\n",
    "        # Generate random number 0 to 1\n",
    "        pvm = np.random.uniform(0, 1)\n",
    "\n",
    "        if pvm < 0.5:\n",
    "            return owl_locations + beta * intensity_ICi * np.absolute(alpha*prey_loc_v - owl_locations)\n",
    "        else:\n",
    "            return owl_locations - beta * intensity_ICi * np.absolute(alpha*prey_loc_v - owl_locations)\n",
    "        \n",
    "        \n",
    "    def calculate_optimal_value(self):\n",
    "  \n",
    "\n",
    "        # Get Owl with initial locatins\n",
    "        owl_loc_with_dim=self.__initialize_population(self.population_size,self.dimension,self.lb,self.ub)\n",
    "\n",
    "        # Print n * d matrix\n",
    "        #print(f\"Matrix for number of owl with search space:\\n\\n{owl_loc_with_dim}\")\n",
    "\n",
    "\n",
    "        #Initialize the variable for  fittest candidate\n",
    "        fittest_owl_V = None\n",
    "        candidate_evaluations = np.empty([self.population_size])\n",
    "        # Normalization intensity of owl position\n",
    "        intensity_owl_loc = self.__normalization_intensity(owl_loc_with_dim)\n",
    "        for i in range(self.max_iter):\n",
    "\n",
    "            #Calculating the output of objective function \n",
    "            for j in range(self.population_size):\n",
    "                candidate_evaluations[j]=self.objective_function(owl_loc_with_dim[j,:])\n",
    "\n",
    "            ## Determining the fittest candidate\n",
    "            if self.optimization == \"maximize\":\n",
    "                fittest_idx = np.argmax(candidate_evaluations)\n",
    "            elif self.optimization == \"minimize\":\n",
    "                fittest_idx = np.argmin(candidate_evaluations)\n",
    "\n",
    "            ## Updating the fittest candidate\n",
    "            if fittest_owl_V == None:\n",
    "                fittest_owl_V = (owl_loc_with_dim[fittest_idx, :], candidate_evaluations[fittest_idx])\n",
    "            else:\n",
    "                current_fittest = (owl_loc_with_dim[fittest_idx, :], candidate_evaluations[fittest_idx])\n",
    "\n",
    "                if self.optimization == \"maximize\" and fittest_owl_V[1] < current_fittest[1]:\n",
    "                    fittest_owl_V = current_fittest\n",
    "\n",
    "                if self.optimization == \"minimize\" and fittest_owl_V[1] > current_fittest[1]:\n",
    "                    fittest_owl_V = current_fittest\n",
    "\n",
    "            # Calculate prey distance\n",
    "            distance_info_R = self.__prey_distance(owl_loc_with_dim, fittest_owl_V[0])[...,np.newaxis]\n",
    "\n",
    "            # Now change intensity for ith owl\n",
    "            intesity_Ici = self.__change_intensity_owl_loc(intensity_owl_loc, distance_info_R)\n",
    "\n",
    "            alpha = np.random.uniform(0, 0.5)\n",
    "            beta = self.__linearly_dec_constant((self.population_size-i), self.population_size)\n",
    "            owl_loc_with_dim = self.__update_owl_loc(alpha, beta, owl_loc_with_dim, fittest_owl_V[0], intesity_Ici)\n",
    "\n",
    "        return fittest_owl_V\n"
   ]
  },
  {
   "cell_type": "code",
   "execution_count": 6,
   "id": "aaeb8e0a",
   "metadata": {},
   "outputs": [
    {
     "name": "stdout",
     "output_type": "stream",
     "text": [
      "(array([1.22179485e+36, 8.52105810e+36, 1.26442077e-11]), 1.59875988170013e-22)\n"
     ]
    }
   ],
   "source": [
    "def obj(X):\n",
    "    sums = 0\n",
    "    for i in X:\n",
    "        sums = i*i\n",
    "    return sums\n",
    "\n",
    "dimension=3\n",
    "lb = np.array([-100,-100,-100])\n",
    "ub = np.array([100,100,100])\n",
    "max_iter = 200\n",
    "population_size=100\n",
    "\n",
    "model = OwlOptimization()\n",
    "model.compile(obj,dimension,lb,ub,population_size,max_iter,optimization='minimize')\n",
    "print(model.calculate_optimal_value())"
   ]
  },
  {
   "cell_type": "code",
   "execution_count": 7,
   "id": "ab2bba2f",
   "metadata": {},
   "outputs": [
    {
     "data": {
      "text/plain": [
       "1.59870736e-22"
      ]
     },
     "execution_count": 7,
     "metadata": {},
     "output_type": "execute_result"
    }
   ],
   "source": [
    "obj([1.2217e+36,8.5210e+36,1.2644e-11])"
   ]
  },
  {
   "cell_type": "code",
   "execution_count": 10,
   "id": "5e947a5d",
   "metadata": {},
   "outputs": [
    {
     "name": "stdout",
     "output_type": "stream",
     "text": [
      "0.01\n"
     ]
    }
   ],
   "source": []
  },
  {
   "cell_type": "code",
   "execution_count": null,
   "id": "a6377d7d",
   "metadata": {},
   "outputs": [],
   "source": []
  }
 ],
 "metadata": {
  "kernelspec": {
   "display_name": "Python 3",
   "language": "python",
   "name": "python3"
  },
  "language_info": {
   "codemirror_mode": {
    "name": "ipython",
    "version": 3
   },
   "file_extension": ".py",
   "mimetype": "text/x-python",
   "name": "python",
   "nbconvert_exporter": "python",
   "pygments_lexer": "ipython3",
   "version": "3.8.10"
  }
 },
 "nbformat": 4,
 "nbformat_minor": 5
}
