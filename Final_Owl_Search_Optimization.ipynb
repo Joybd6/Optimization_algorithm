{
 "cells": [
  {
   "cell_type": "code",
   "execution_count": 1,
   "metadata": {
    "id": "Xg1yy2W9YMq8"
   },
   "outputs": [],
   "source": [
    "import numpy as np\n",
    "\n",
    "class OwlOptimization():\n",
    "    def __init__(self):\n",
    "        self.beta = 1.9\n",
    "        self.history = []\n",
    "    \n",
    "    def get_history(self):\n",
    "        return self.history\n",
    "    \n",
    "    def compile(self, obj, dimension, lb, ub, population_size = 100, max_iter = 100, optimization = \"maximize\"):\n",
    "        self.objective_function = obj\n",
    "        self.dimension = dimension\n",
    "        self.lb = lb\n",
    "        self.ub = ub\n",
    "        self.max_iter = max_iter\n",
    "        self.optimization = optimization\n",
    "        self.population_size = population_size\n",
    "    \n",
    "    def __initialize_population(self, owl_num, dim, lb, ub):\n",
    "        return lb + np.random.uniform(0, 1, size = (owl_num, dim)) * (ub - lb)\n",
    "            \n",
    "    # Equ. 28\n",
    "    def __norm_sound_intensity(self, f_i, owls):\n",
    "        \n",
    "        # Find minimun and maximum value\n",
    "        w_min = np.min(owls)\n",
    "        b_max = np.max(owls)\n",
    "\n",
    "        # Return normalization intensity of owl position by equation 4\n",
    "        return (f_i - w_min) / (b_max - w_min)\n",
    "\n",
    "    def __change_sound_intensity(self, sound_intensity, distance_info_R):\n",
    "        if distance_info_R == 0:\n",
    "            return ((sound_intensity) / (sound_intensity)) + np.random.uniform(0, 1.0, 1)\n",
    "        else:\n",
    "            return ((sound_intensity) / (distance_info_R**2)) + np.random.uniform(0, 1.0, 1)\n",
    "\n",
    "    def __linearly_dec_constant(self, crnt, max_num, range_min = 0, range_max = 1.9):\n",
    "        return (crnt - range_min) / (max_num-range_min) * range_max\n",
    "\n",
    "    # Equ. 31\n",
    "    def __update_owl_position(self, alpha, beta, owl_locations, fittest_owl, intensity_ICi):\n",
    "\n",
    "        # Generate random number 0 to 1\n",
    "        pvm = np.random.uniform(0, 1)\n",
    "\n",
    "        if pvm < 0.5:\n",
    "            return owl_locations + beta * intensity_ICi * np.absolute(alpha * fittest_owl - owl_locations)\n",
    "        else:\n",
    "            return owl_locations - beta * intensity_ICi * np.absolute(alpha * fittest_owl - owl_locations)\n",
    "        \n",
    "    def train(self):\n",
    "\n",
    "        # Get Owl with initial locations # np.array([[4, 23, 5, 6], [1, 6, 8, 3], [4, 3, 5, 6]]) # \n",
    "        owls = self.__initialize_population(self.population_size, self.dimension, self.lb, self.ub)\n",
    "\n",
    "        # Print n * d matrix\n",
    "        # print(f\"Matrix for number of owl with search space:\\n{owls}\\n\")\n",
    "\n",
    "        for iter in range(self.max_iter):\n",
    "\n",
    "            candidate_evaluations = np.empty([self.population_size])\n",
    "\n",
    "            #Calculating the output of objective function \n",
    "            for i in range(self.population_size):\n",
    "                candidate_evaluations[i] = self.objective_function(owls[i, :])\n",
    "\n",
    "            # Calculate the intensity \n",
    "            sound_intensity = np.empty([self.population_size])\n",
    "            for i in range(self.population_size):\n",
    "                sound_intensity[i] = self.__norm_sound_intensity(candidate_evaluations[i], owls)\n",
    "\n",
    "            # print(f\"candidate_evaluations: {candidate_evaluations}\")\n",
    "            # print(f\"sound_intensity: {sound_intensity}\")\n",
    "            \n",
    "            # Determining the fittest index. The best owl receives max intensity (for maximization problems) as it is more close to vole.\n",
    "            if self.optimization == \"maximize\":\n",
    "                fittest_idx = np.argmax(sound_intensity)\n",
    "            elif self.optimization == \"minimize\":\n",
    "                fittest_idx = np.argmin(sound_intensity)\n",
    "\n",
    "            fittest_owl = (owls[fittest_idx, :], candidate_evaluations[fittest_idx]) # owls[fittest_idx, :] \n",
    "\n",
    "            # print(f\"Iteration {iter}: {self.objective_function(fittest_owl)}\")\n",
    "            \n",
    "            # Calculates the distance between owl and prey (equ. 29)\n",
    "            distances = np.empty([self.population_size])\n",
    "            for i in range(self.population_size):\n",
    "                distances[i] = np.linalg.norm(owls[i] - fittest_owl[0])\n",
    "\n",
    "            # Obtains the change in intensity (eq. 30)\n",
    "            intensity_change = np.empty([self.population_size])\n",
    "            for i in range(self.population_size):\n",
    "                intensity_change[i] = self.__change_sound_intensity(sound_intensity[i], distances[i])\n",
    "            \n",
    "            alpha = np.random.uniform(0, 0.5, 1)\n",
    "            beta = self.beta - ((iter + 1) / self.max_iter) * self.beta # self.__linearly_dec_constant()\n",
    "            \n",
    "            for i in range(self.population_size):\n",
    "                owls[i] = self.__update_owl_position(alpha, beta, owls[i], fittest_owl[0], intensity_change[i])\n",
    "\n",
    "            self.history.append(fittest_owl[1])\n",
    "\n",
    "        return fittest_owl"
   ]
  },
  {
   "cell_type": "code",
   "execution_count": 3,
   "metadata": {},
   "outputs": [],
   "source": [
    "from benchmarking.benchmark import *\n",
    "function=[Sphere,Schwefel_2_22,Schwefel_1_2,Rosenbrock,Step,Quartic_with_noise,Ackley,SumSquare]"
   ]
  },
  {
   "cell_type": "code",
   "execution_count": 9,
   "metadata": {
    "scrolled": true
   },
   "outputs": [
    {
     "name": "stdout",
     "output_type": "stream",
     "text": [
      "Sphere\t ==> Min = 1.4584635111621e-40 Max = 1.0067374639858213e-09 Mean = 3.3773899477342633e-11\n"
     ]
    },
    {
     "name": "stderr",
     "output_type": "stream",
     "text": [
      "C:\\Users\\mdobn\\AppData\\Local\\Temp\\ipykernel_18252\\2134303529.py:31: RuntimeWarning: invalid value encountered in scalar divide\n",
      "  return (f_i - w_min) / (b_max - w_min)\n",
      "C:\\Users\\mdobn\\AppData\\Local\\Temp\\ipykernel_18252\\2134303529.py:90: RuntimeWarning: invalid value encountered in subtract\n",
      "  distances[i] = np.linalg.norm(owls[i] - fittest_owl[0])\n",
      "C:\\Users\\mdobn\\AppData\\Local\\Temp\\ipykernel_18252\\2134303529.py:51: RuntimeWarning: invalid value encountered in subtract\n",
      "  return owl_locations - beta * intensity_ICi * np.absolute(alpha * fittest_owl - owl_locations)\n",
      "C:\\Users\\mdobn\\AppData\\Local\\Temp\\ipykernel_18252\\2134303529.py:49: RuntimeWarning: invalid value encountered in subtract\n",
      "  return owl_locations + beta * intensity_ICi * np.absolute(alpha * fittest_owl - owl_locations)\n"
     ]
    },
    {
     "name": "stdout",
     "output_type": "stream",
     "text": [
      "Schwefel_2_22\t ==> Min = nan Max = nan Mean = nan\n",
      "Schwefel_1_2\t ==> Min = 3.803023271466391e-44 Max = 0.00026906308656746776 Mean = 9.060905138078656e-06\n",
      "Rosenbrock\t ==> Min = nan Max = nan Mean = nan\n",
      "Step\t ==> Min = 0.6050006373069254 Max = 3.1655905914891127 Mean = 1.1472693105715914\n",
      "Quartic_with_noise\t ==> Min = nan Max = nan Mean = nan\n",
      "Ackley\t ==> Min = 4.440892098500626e-16 Max = 3.3437759339172146e-06 Mean = 1.8927175474322174e-07\n",
      "SumSquare\t ==> Min = 5.5793283995851386e-39 Max = 3.8660728882130883e-10 Mean = 1.3467906223932645e-11\n"
     ]
    }
   ],
   "source": [
    "for i in function:\n",
    "    func=i()\n",
    "    values=np.empty(30)\n",
    "    for l in range(30):\n",
    "        lb = np.array([func.range[0]]).repeat(func.dim)\n",
    "        ub = np.array([func.range[1]]).repeat(func.dim)\n",
    "        model = OwlOptimization()\n",
    "        model.compile(func.get_algorithm(),dimension=func.dim,lb=lb,ub=ub,population_size=100,max_iter=100,optimization=\"minimize\")\n",
    "        values[l]=model.train()[-1]\n",
    "    print(f\"{func.name}\\t ==> Min = {np.min(values)} Max = {np.max(values)} Mean = {np.mean(values)}\")"
   ]
  },
  {
   "cell_type": "code",
   "execution_count": null,
   "metadata": {},
   "outputs": [],
   "source": [
    "dimension = 30\n",
    "lb = np.array([-100]).repeat(dimension)\n",
    "ub = np.array([100]).repeat(dimension)\n",
    "max_iter = 100\n",
    "population_size = 10\n",
    "\n",
    "model = OwlOptimization()\n",
    "model.compile(sphere.get_algorithm(), dimension, lb, ub, population_size, max_iter, optimization = 'minimize')\n",
    "model.train()"
   ]
  },
  {
   "cell_type": "code",
   "execution_count": null,
   "metadata": {},
   "outputs": [],
   "source": []
  },
  {
   "cell_type": "markdown",
   "metadata": {
    "id": "uGMhQV33MsqD"
   },
   "source": [
    "# Benchmarking in `Python` class"
   ]
  },
  {
   "cell_type": "code",
   "execution_count": 2,
   "metadata": {
    "id": "AfbZN4Raq--q"
   },
   "outputs": [],
   "source": [
    "def sphere_func(x):\n",
    "    res = 0\n",
    "    for i in x:\n",
    "        res += i**2\n",
    "    return res\n",
    "\n",
    "def schwefel_2_22_func(x):\n",
    "    # Summation of xi\n",
    "    sum = 0\n",
    "    for item in x:\n",
    "        sum += item\n",
    "    # Product of xi\n",
    "    prod = 1\n",
    "    for item in x:\n",
    "        prod *= item\n",
    "    res = sum + prod\n",
    "    return res\n",
    "\n",
    "def step_func(x):\n",
    "    res = 0\n",
    "    for i in x:\n",
    "        res += (i + 0.5) ** 2\n",
    "    return res\n",
    "\n",
    "def quartic_with_noise_func(x):\n",
    "    res = 0\n",
    "    for i in range(len(x)):\n",
    "        res += ((i+1)*(x[i]) ** 4) + np.random.rand()\n",
    "    return res\n",
    "\n",
    "def rosenbrock_func(x):\n",
    "    res = 0\n",
    "    for i in range(len(x)-1):\n",
    "        xi = x[i]\n",
    "        xi_plus_1 = x[i + 1]\n",
    "        xi_squared = xi ** 2\n",
    "        term1 = 100 * (xi_plus_1 - xi_squared) ** 2\n",
    "        term2 = (xi - 1) ** 2\n",
    "        res += term1 + term2\n",
    "    return res\n",
    "\n",
    "def schwefel_1_2_func(x):\n",
    "    res = 0\n",
    "    for item in range(len(x)):\n",
    "        temp = 0\n",
    "        for j in range(item+1):\n",
    "            temp += x[j]\n",
    "            res += temp**2\n",
    "    return res\n",
    "\n",
    "def ackley_func(x):\n",
    "    res = -20*np.exp(-0.2*np.sqrt(1/len(x)*sum(i**2 for i in x))) - \\\n",
    "        np.exp(1/len(x)*sum(np.cos(2*np.pi*i) for i in x))+20+np.exp(1)\n",
    "    return res"
   ]
  },
  {
   "cell_type": "markdown",
   "metadata": {
    "id": "wxKazbqyNO9B"
   },
   "source": [
    "# Test and evaluate `OSA` in `Python` benchmarking class"
   ]
  },
  {
   "cell_type": "code",
   "execution_count": 17,
   "metadata": {
    "colab": {
     "base_uri": "https://localhost:8080/"
    },
    "id": "Qp77fnpLKMSc",
    "outputId": "03dee384-3eaa-482f-b138-29e1d21280a1"
   },
   "outputs": [
    {
     "data": {
      "text/plain": [
       "(array([-2.28222098e-12, -1.57276833e-12, -7.97401363e-13, -3.47885106e-13,\n",
       "        -5.51411652e-13, -7.83929195e-13, -3.53904071e-14, -1.79326977e-13,\n",
       "        -8.10343277e-13, -9.06236184e-13, -3.93080652e-13, -3.17064319e-12,\n",
       "        -1.84541000e-13, -8.82891988e-13, -7.39660804e-13, -1.84440487e-13,\n",
       "        -8.48896462e-13, -8.39708097e-13, -3.90956453e-13, -6.81803051e-13,\n",
       "        -1.06113001e-12, -3.99126406e-13, -1.73897354e-13, -1.13983259e-12,\n",
       "        -1.15389539e-12, -3.28568412e-13, -7.02825067e-13, -1.30210758e-12,\n",
       "        -1.55097943e-12, -6.21339444e-13]),\n",
       " 3.3549770669209493e-23)"
      ]
     },
     "execution_count": 17,
     "metadata": {},
     "output_type": "execute_result"
    }
   ],
   "source": [
    "sphere = Sphere()\n",
    "\n",
    "dimension = 30\n",
    "lb = np.array([-100]).repeat(dimension)\n",
    "ub = np.array([100]).repeat(dimension)\n",
    "max_iter = 100\n",
    "population_size = 10\n",
    "\n",
    "model = OwlOptimization()\n",
    "model.compile(sphere.get_algorithm(), dimension, lb, ub, population_size, max_iter, optimization = 'minimize')\n",
    "model.train()"
   ]
  },
  {
   "cell_type": "markdown",
   "metadata": {
    "id": "uwGCgbR4P1QX"
   },
   "source": [
    "# Get `OSA` history"
   ]
  },
  {
   "cell_type": "code",
   "execution_count": 18,
   "metadata": {
    "colab": {
     "base_uri": "https://localhost:8080/"
    },
    "id": "M8F7w8JHN-gq",
    "outputId": "dc31a3cc-3ec1-4b2d-c889-0b26a1e0123c"
   },
   "outputs": [
    {
     "name": "stdout",
     "output_type": "stream",
     "text": [
      "First Fit: 58747.97492145375\n",
      "Last Fit: 3.3549770669209493e-23\n"
     ]
    }
   ],
   "source": [
    "osa_history = model.get_history()\n",
    "\n",
    "print(f\"First Fit: {osa_history[0]}\")\n",
    "print(f\"Last Fit: {osa_history[-1]}\")"
   ]
  },
  {
   "cell_type": "markdown",
   "metadata": {
    "id": "1YKxgiIDNEJa"
   },
   "source": [
    "# Evaluate `OSA` in 30 independent runs"
   ]
  },
  {
   "cell_type": "code",
   "execution_count": null,
   "metadata": {
    "colab": {
     "base_uri": "https://localhost:8080/"
    },
    "id": "IgctpYLs1b1G",
    "outputId": "822a8f00-b717-4f15-9bb1-27ca47749ccb"
   },
   "outputs": [
    {
     "name": "stdout",
     "output_type": "stream",
     "text": [
      "ackley_func ==> Minimum: 4.440892098500626e-16, Maximum: 0.0001161644353122604, Mean: 4.089796855281473e-06\n"
     ]
    }
   ],
   "source": [
    "values = np.empty(30)\n",
    "for j in range(len(values)):\n",
    "    # Objective function\n",
    "    \n",
    "    dimension = 30\n",
    "    lb = np.array([-32]).repeat(dimension)\n",
    "    ub = np.array([32]).repeat(dimension)\n",
    "    max_iter = 100\n",
    "    population_size = 10\n",
    "\n",
    "    model = OwlOptimization()\n",
    "    model.compile(ackley_func, dimension, lb, ub, population_size, max_iter, optimization = 'minimize')\n",
    "    fittest_owl = model.train()\n",
    "    # print(f\"\\nFianl Fitest Owl: {fittest_owl[0]}\\n\")\n",
    "    value = ackley_func(fittest_owl[0])\n",
    "    values[j] = value\n",
    "\n",
    "print(f\"ackley_func ==> Minimum: {np.min(values)}, Maximum: {np.max(values)}, Mean: {np.mean(values)}\")"
   ]
  },
  {
   "cell_type": "markdown",
   "metadata": {
    "id": "NMEEl8K_1ole"
   },
   "source": [
    "# Result and evaluation\n",
    "\n",
    "### Sphere Function\n",
    "Minimum: 6.771317785914812e-47, Maximum: 8.600530807758569e-08, Mean: 2.8668547636970312e-09\n",
    "\n",
    "### Step Function\n",
    "Minimum: 1.3635305120989898, Maximum: 7.437202806075672, Mean: 4.602139686476761\n",
    "\n",
    "### Schwefel_1_2 Function\n",
    "Minimum: 8.647476619816076e-08, Maximum: 95572336.3301623, Mean: 3197542.829429056\n",
    "\n",
    "### Ackley Function\n",
    "Minimum: 4.151443138455946e-05, Maximum: 3.522926598454767, Mean: 0.4023076111503798"
   ]
  }
 ],
 "metadata": {
  "colab": {
   "provenance": []
  },
  "kernelspec": {
   "display_name": "Python 3 (ipykernel)",
   "language": "python",
   "name": "python3"
  },
  "language_info": {
   "codemirror_mode": {
    "name": "ipython",
    "version": 3
   },
   "file_extension": ".py",
   "mimetype": "text/x-python",
   "name": "python",
   "nbconvert_exporter": "python",
   "pygments_lexer": "ipython3",
   "version": "3.8.10"
  }
 },
 "nbformat": 4,
 "nbformat_minor": 1
}
