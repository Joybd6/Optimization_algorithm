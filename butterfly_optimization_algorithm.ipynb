{
 "cells": [
  {
   "cell_type": "code",
   "execution_count": 1,
   "id": "fb60225f",
   "metadata": {},
   "outputs": [],
   "source": [
    "import numpy as np"
   ]
  },
  {
   "cell_type": "code",
   "execution_count": 2,
   "id": "4cc6bc73",
   "metadata": {},
   "outputs": [],
   "source": [
    "class ButterflyOptimization():\n",
    "    def __init__(self):\n",
    "        self.objective_function=None\n",
    "        \n",
    "    def compile_algorithm(self,obj,dimension,lb,ub,c=0.5,p=0.8,population_size=100,max_iter=100,optimization=\"maximize\"):\n",
    "        self.objective_function = obj\n",
    "        self.dimension = dimension\n",
    "        self.lb=lb\n",
    "        self.ub=ub\n",
    "        self.c = c\n",
    "        self.p = p\n",
    "        self.max_iter = max_iter\n",
    "        self.optimization = optimization\n",
    "        self.population_size=population_size\n",
    "    \n",
    "    ## Initialize the populations of butterfly randomly\n",
    "    def __initialize_population(self):\n",
    "        return self.lb+np.random.rand(self.population_size,self.dimension)*(self.ub-self.lb)\n",
    "    \n",
    "    \n",
    "    ## Calculate the fragrance using the formula f=c*I^2\n",
    "    def __calculate_fragrance(self,I,a):\n",
    "        return self.c*np.power(I,a)\n",
    "    \n",
    "    ## This function will find the best butterfly in a specific iteration\n",
    "    def __find_best_butterfly(self,populations,I):\n",
    "        if self.optimization == \"maximize\":\n",
    "            return np.array(populations[np.argmax(I)]),np.max(I)\n",
    "        elif self.optimization == \"minimize\":\n",
    "            return np.array(populations[np.argmin(I)]),np.min(I)\n",
    "        else:\n",
    "            raise Exception(f\"Unknown Optimization Criteria: {self.optimization}\")\n",
    "    \n",
    "    ## This function will update the global best butterfly\n",
    "    def __update_global_best_butterfly(self,global_best,current_best):\n",
    "        if global_best == None:\n",
    "            return current_best\n",
    "        \n",
    "        if self.optimization == \"maximize\":\n",
    "            return current_best if current_best[1]>=global_best[1] else global_best\n",
    "        elif self.optimization == \"minimize\":\n",
    "            return current_best if current_best[1]<=global_best[1] else global_best\n",
    "    \n",
    "    ## This is the population update function:\n",
    "    ## if r < p:\n",
    "    ## next_population = current_population + (r^2*best_butterfly-current_population)*fragrance\n",
    "    ## else:\n",
    "    ## next_population_i = current_population_i + (r^2*current_population_j-current_population_k)*fragrance\n",
    "    \n",
    "    def __update_population(self,current_population,best_butterfly,F):\n",
    "        r = np.random.rand(self.population_size,1)\n",
    "        j = current_population.copy()\n",
    "        k = current_population.copy()\n",
    "        \n",
    "        np.random.shuffle(j)\n",
    "        np.random.shuffle(k)\n",
    "        \n",
    "        next_population_rlp = current_population + (r**2*best_butterfly-current_population)*np.expand_dims(F,axis=1)\n",
    "        next_population_rgp = current_population + (r**2*j-k) * np.expand_dims(F,axis=1)\n",
    "        r = r < self.p\n",
    "        next_population = r*next_population_rlp+(1-r)*next_population_rgp\n",
    "        return np.clip(next_population,lb,ub)\n",
    "    \n",
    "    def calculate_optimal_value(self):\n",
    "        if self.objective_function == None:\n",
    "            raise Exception(\"You should compile first.\")\n",
    "        global_best = None\n",
    "        population = self.__initialize_population()\n",
    "        a = np.random.rand()\n",
    "        \n",
    "        for i in range(self.max_iter):\n",
    "            ## Calculate the value of stimulus intensity I\n",
    "            I = np.array([self.objective_function(j) for j in population])\n",
    "            \n",
    "            ## Calculate the frangrance\n",
    "            F = self.__calculate_fragrance(I,a)\n",
    "            \n",
    "            ## Get the best index of best butterfly from populations\n",
    "            best_butterfly=self.__find_best_butterfly(population,I)\n",
    "            \n",
    "            global_best = self.__update_global_best_butterfly(global_best,best_butterfly)\n",
    "            \n",
    "            ## Update the populations \n",
    "            populations = self.__update_population(population,global_best[0],F)\n",
    "            \n",
    "            a = np.random.rand()\n",
    "            self.c += 0.025/(self.c*self.max_iter)\n",
    "        return global_best\n",
    "    "
   ]
  },
  {
   "cell_type": "markdown",
   "id": "0de6944f",
   "metadata": {},
   "source": [
    "# Testing the Algorithm with objective function"
   ]
  },
  {
   "cell_type": "code",
   "execution_count": 9,
   "id": "07080c28",
   "metadata": {},
   "outputs": [],
   "source": [
    "## Defining a simple objective function\n",
    "def obj(X):\n",
    "    sums=0\n",
    "    for i in X:\n",
    "        sums = sums+i*i\n",
    "    return sums\n",
    "lb = np.array([-100]).repeat(30)\n",
    "ub = np.array([100]).repeat(30)\n",
    "dim = 30"
   ]
  },
  {
   "cell_type": "code",
   "execution_count": 10,
   "id": "8c87b010",
   "metadata": {},
   "outputs": [],
   "source": [
    "boa = ButterflyOptimization()"
   ]
  },
  {
   "cell_type": "code",
   "execution_count": 11,
   "id": "e3478c9d",
   "metadata": {},
   "outputs": [],
   "source": [
    "boa.compile_algorithm(obj,dim,lb,ub,c=0.001,population_size=1000,max_iter=1000,optimization=\"minimize\")"
   ]
  },
  {
   "cell_type": "code",
   "execution_count": 12,
   "id": "d51fe30b",
   "metadata": {},
   "outputs": [
    {
     "name": "stdout",
     "output_type": "stream",
     "text": [
      "(array([ 34.58049926,  22.78800052,  32.36040068,   3.93619242,\n",
      "        18.64728917,  -4.22306028, -32.4027115 ,   7.69922024,\n",
      "        10.37864493, -13.13237669,   0.37505193, -36.90561357,\n",
      "        -5.60789293,  12.26742748, -10.39810674, -20.67382514,\n",
      "       -59.06459083, -31.7773084 ,  21.05329505,  78.9015216 ,\n",
      "       -40.19538116,  53.45802457,  38.31117864,  96.05268479,\n",
      "        -3.33027495,  71.85744848, -13.55869891, -40.9037082 ,\n",
      "        -0.38001191,  12.53818528]), 40135.66292733446)\n"
     ]
    }
   ],
   "source": [
    "print(boa.calculate_optimal_value())"
   ]
  },
  {
   "cell_type": "code",
   "execution_count": null,
   "id": "4e2350fb",
   "metadata": {},
   "outputs": [],
   "source": []
  }
 ],
 "metadata": {
  "kernelspec": {
   "display_name": "Python 3",
   "language": "python",
   "name": "python3"
  },
  "language_info": {
   "codemirror_mode": {
    "name": "ipython",
    "version": 3
   },
   "file_extension": ".py",
   "mimetype": "text/x-python",
   "name": "python",
   "nbconvert_exporter": "python",
   "pygments_lexer": "ipython3",
   "version": "3.8.10"
  }
 },
 "nbformat": 4,
 "nbformat_minor": 5
}
