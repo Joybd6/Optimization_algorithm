{
 "cells": [
  {
   "cell_type": "code",
   "execution_count": 47,
   "id": "fb60225f",
   "metadata": {},
   "outputs": [],
   "source": [
    "import numpy as np"
   ]
  },
  {
   "cell_type": "code",
   "execution_count": 68,
   "id": "4cc6bc73",
   "metadata": {},
   "outputs": [],
   "source": [
    "class ButterflyOptimization():\n",
    "    def __init__(self):\n",
    "        self.objective_function=None\n",
    "        \n",
    "    def compile_algorithm(self,obj,dimension,lb,ub,c=0.5,p=0.8,population_size=100,max_iter=100,optimization=\"maximize\"):\n",
    "        self.objective_function = obj\n",
    "        self.dimension = dimension\n",
    "        self.lb=lb\n",
    "        self.ub=ub\n",
    "        self.c = c\n",
    "        self.p = p\n",
    "        self.max_iter = max_iter\n",
    "        self.optimization = optimization\n",
    "        self.population_size=population_size\n",
    "    \n",
    "    ## Initialize the populations of butterfly randomly\n",
    "    def __initialize_population(self):\n",
    "        return self.lb+np.random.rand(self.population_size,self.dimension)*(self.ub-self.lb)\n",
    "    \n",
    "    \n",
    "    ## Calculate the fragrance using the formula f=c*I^2\n",
    "    def __calculate_fragrance(self,I,a):\n",
    "        return self.c*np.power(I,a)\n",
    "    \n",
    "    ## This function will find the best butterfly in a specific iteration\n",
    "    def __find_best_butterfly(self,populations,I):\n",
    "        if self.optimization == \"maximize\":\n",
    "            return np.array(populations[np.argmax(I)]),np.max(I)\n",
    "        elif self.optimization == \"minimize\":\n",
    "            return np.array(populations[np.argmin(I)]),np.min(I)\n",
    "        else:\n",
    "            raise Exception(f\"Unknown Optimization Criteria: {self.optimization}\")\n",
    "    \n",
    "    ## This function will update the global best butterfly\n",
    "    def __update_global_best_butterfly(self,global_best,current_best):\n",
    "        if global_best == None:\n",
    "            return current_best\n",
    "        \n",
    "        if self.optimization == \"maximize\":\n",
    "            return current_best if current_best[1]>=global_best[1] else global_best\n",
    "        elif self.optimization == \"minimize\":\n",
    "            return current_best if current_best[1]<=global_best[1] else global_best\n",
    "    \n",
    "    ## This is the population update function:\n",
    "    ## if r < p:\n",
    "    ## next_population = current_population + (r^2*best_butterfly-current_population)*fragrance\n",
    "    ## else:\n",
    "    ## next_population_i = current_population_i + (r^2*current_population_j-current_population_k)*fragrance\n",
    "    \n",
    "    def __update_population(self,current_population,best_butterfly,F):\n",
    "        next_population = np.empty(current_population.shape)\n",
    "        \n",
    "        for i,c_pop in enumerate(current_population):\n",
    "            r = np.random.rand()\n",
    "            \n",
    "            if r < self.p:\n",
    "                next_population[i,:] = c_pop + (np.square(r) * best_butterfly - c_pop)* F[i]\n",
    "            else:\n",
    "                jk = np.random.randint(0,current_population.shape[0],2)\n",
    "                j = current_population[jk[0]]\n",
    "                k = current_population[jk[1]]\n",
    "                \n",
    "                next_population[i,:] = c_pop + (r**2*j-k) * F[i]\n",
    "        return np.clip(next_population,self.lb,self.ub)\n",
    "    \n",
    "        #r = np.random.rand(self.population_size,1)\n",
    "        #j = current_population.copy()\n",
    "        #k = current_population.copy()\n",
    "        \n",
    "        #np.random.shuffle(j)\n",
    "        #np.random.shuffle(k)\n",
    "        \n",
    "        #next_population_rlp = current_population + (r**2*best_butterfly-current_population)*np.expand_dims(F,axis=1)\n",
    "        #next_population_rgp = current_population + (r**2*j-k) * np.expand_dims(F,axis=1)\n",
    "        #r = r < self.p\n",
    "        #next_population = r*next_population_rlp+(1-r)*next_population_rgp\n",
    "        #return np.clip(next_population,lb,ub)\n",
    "    \n",
    "    def calculate_optimal_value(self):\n",
    "        if self.objective_function == None:\n",
    "            raise Exception(\"You should compile first.\")\n",
    "        global_best = None\n",
    "        population = self.__initialize_population()\n",
    "        a = np.random.rand()\n",
    "        a = 0.1\n",
    "        \n",
    "        for i in range(self.max_iter):\n",
    "            ## Calculate the value of stimulus intensity I\n",
    "            I = np.array([self.objective_function(j) for j in population])\n",
    "            \n",
    "            ## Calculate the frangrance\n",
    "            F = self.__calculate_fragrance(I,a)\n",
    "            \n",
    "            ## Get the best index of best butterfly from populations\n",
    "            best_butterfly=self.__find_best_butterfly(population,I)\n",
    "            \n",
    "            global_best = self.__update_global_best_butterfly(global_best,best_butterfly)\n",
    "            \n",
    "            ## Update the populations \n",
    "            populations = self.__update_population(population,best_butterfly[0],F)\n",
    "            \n",
    "            #a = np.random.rand()\n",
    "            #self.c += 0.025/(self.c*self.max_iter)\n",
    "        return global_best\n",
    "    "
   ]
  },
  {
   "cell_type": "markdown",
   "id": "0de6944f",
   "metadata": {},
   "source": [
    "# Testing the Algorithm with objective function"
   ]
  },
  {
   "cell_type": "code",
   "execution_count": 69,
   "id": "07080c28",
   "metadata": {},
   "outputs": [],
   "source": [
    "## Defining a simple objective function\n",
    "def obj(X):\n",
    "    sums=0\n",
    "    for i in X:\n",
    "        sums = sums+i*i\n",
    "    return sums\n",
    "dim=30\n",
    "lb = np.array([-100]).repeat(dim)\n",
    "ub = np.array([100]).repeat(dim)"
   ]
  },
  {
   "cell_type": "code",
   "execution_count": 70,
   "id": "8c87b010",
   "metadata": {},
   "outputs": [],
   "source": [
    "boa = ButterflyOptimization()"
   ]
  },
  {
   "cell_type": "code",
   "execution_count": 71,
   "id": "e3478c9d",
   "metadata": {},
   "outputs": [],
   "source": [
    "boa.compile_algorithm(obj,dim,lb,ub,c=0.01,population_size=100,max_iter=100,optimization=\"minimize\")"
   ]
  },
  {
   "cell_type": "code",
   "execution_count": 72,
   "id": "d51fe30b",
   "metadata": {},
   "outputs": [
    {
     "name": "stdout",
     "output_type": "stream",
     "text": [
      "(array([-58.00920987, -31.84891228, -30.78464653,  44.20938409,\n",
      "        22.37771273, -41.38265433,   9.10784501, -58.81430382,\n",
      "       -59.87171651, -44.02840155,  73.26485062, -10.12665318,\n",
      "       -57.70579076,  20.89296666, -17.58887753, -20.7069816 ,\n",
      "        22.75044074,  70.48808472,  68.52676634, -55.83531501,\n",
      "       -44.92875447, -15.81407836, -18.060597  , -67.72012075,\n",
      "       -51.72948512,  89.97125401,   5.70701395,   6.60464165,\n",
      "       -50.39492494,  19.53128266]), 62783.58675151505)\n"
     ]
    }
   ],
   "source": [
    "print(boa.calculate_optimal_value())"
   ]
  },
  {
   "cell_type": "code",
   "execution_count": null,
   "id": "4e2350fb",
   "metadata": {},
   "outputs": [],
   "source": []
  }
 ],
 "metadata": {
  "kernelspec": {
   "display_name": "Python 3 (ipykernel)",
   "language": "python",
   "name": "python3"
  },
  "language_info": {
   "codemirror_mode": {
    "name": "ipython",
    "version": 3
   },
   "file_extension": ".py",
   "mimetype": "text/x-python",
   "name": "python",
   "nbconvert_exporter": "python",
   "pygments_lexer": "ipython3",
   "version": "3.10.9"
  }
 },
 "nbformat": 4,
 "nbformat_minor": 5
}
