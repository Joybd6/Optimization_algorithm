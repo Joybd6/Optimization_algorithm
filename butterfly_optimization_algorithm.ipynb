{
 "cells": [
  {
   "cell_type": "code",
   "execution_count": 1,
   "id": "fb60225f",
   "metadata": {},
   "outputs": [],
   "source": [
    "import numpy as np"
   ]
  },
  {
   "cell_type": "code",
   "execution_count": 2,
   "id": "4cc6bc73",
   "metadata": {},
   "outputs": [],
   "source": [
    "class ButterflyOptimization():\n",
    "    def __init__(self):\n",
    "        self.objective_function=None\n",
    "        \n",
    "    def compile_algorithm(self,obj,dimension,lb,ub,c=0.5,p=0.8,population_size=100,max_iter=100,optimization=\"minimize\"):\n",
    "        self.objective_function = obj\n",
    "        self.dimension = dimension\n",
    "        self.lb=lb\n",
    "        self.ub=ub\n",
    "        self.c = c\n",
    "        self.p = p\n",
    "        self.max_iter = max_iter\n",
    "        self.optimization = optimization\n",
    "        self.population_size=population_size\n",
    "    \n",
    "    ## Initialize the populations of butterfly randomly\n",
    "    def __initialize_population(self):\n",
    "        return self.lb+np.random.rand(self.population_size,self.dimension)*(self.ub-self.lb)\n",
    "    \n",
    "    \n",
    "    ## Calculate the fragrance using the formula f=c*I^2\n",
    "    def __calculate_fragrance(self,I,a):\n",
    "        return self.c*np.power(I,a)\n",
    "    \n",
    "    ## This function will find the best butterfly in a specific iteration\n",
    "    def __find_best_butterfly(self,populations,I):\n",
    "        if self.optimization == \"maximize\":\n",
    "            return np.array(populations[np.argmax(I)]),np.max(I)\n",
    "        elif self.optimization == \"minimize\":\n",
    "            return np.array(populations[np.argmin(I)]),np.min(I)\n",
    "        else:\n",
    "            raise Exception(f\"Unknown Optimization Criteria: {self.optimization}\")\n",
    "    \n",
    "    ## This function will update the global best butterfly\n",
    "    def __update_global_best_butterfly(self,global_best,current_best):\n",
    "        if global_best == None:\n",
    "            return current_best\n",
    "        \n",
    "        if self.optimization == \"maximize\":\n",
    "            return current_best if current_best[1]>=global_best[1] else global_best\n",
    "        elif self.optimization == \"minimize\":\n",
    "            return current_best if current_best[1]<=global_best[1] else global_best\n",
    "    \n",
    "    ## This is the population update function:\n",
    "    ## if r < p:\n",
    "    ## next_population = current_population + (r^2*best_butterfly-current_population)*fragrance\n",
    "    ## else:\n",
    "    ## next_population_i = current_population_i + (r^2*current_population_j-current_population_k)*fragrance\n",
    "    \n",
    "    def __update_population(self,current_population,best_butterfly,F):\n",
    "        next_population = np.empty(current_population.shape)\n",
    "        \n",
    "        for i,c_pop in enumerate(current_population):\n",
    "            r = np.random.rand()\n",
    "            \n",
    "            if r < self.p:\n",
    "                next_population[i,:] = c_pop + (np.square(r) * best_butterfly - c_pop)* F[i]\n",
    "            else:\n",
    "                jk = np.random.randint(0,current_population.shape[0],2)\n",
    "                j = current_population[jk[0]]\n",
    "                k = current_population[jk[1]]\n",
    "                \n",
    "                next_population[i,:] = c_pop + (r**2*j-k) * F[i]\n",
    "        return np.clip(next_population,self.lb,self.ub)\n",
    "    \n",
    "        #r = np.random.rand(self.population_size,1)\n",
    "        #j = current_population.copy()\n",
    "        #k = current_population.copy()\n",
    "        \n",
    "        #np.random.shuffle(j)\n",
    "        #np.random.shuffle(k)\n",
    "        \n",
    "        #next_population_rlp = current_population + (r**2*best_butterfly-current_population)*np.expand_dims(F,axis=1)\n",
    "        #next_population_rgp = current_population + (r**2*j-k) * np.expand_dims(F,axis=1)\n",
    "        #r = r < self.p\n",
    "        #next_population = r*next_population_rlp+(1-r)*next_population_rgp\n",
    "        #return np.clip(next_population,lb,ub)\n",
    "    \n",
    "    def calculate_optimal_value(self):\n",
    "        if self.objective_function == None:\n",
    "            raise Exception(\"You should compile first.\")\n",
    "        global_best = None\n",
    "        population = self.__initialize_population()\n",
    "        a = np.random.rand()\n",
    "        a = 0.1\n",
    "\n",
    "        for i in range(self.max_iter):\n",
    "            ## Calculate the value of stimulus intensity I\n",
    "            \n",
    "            I=np.empty([self.population_size])\n",
    "            for j in range(len(I)):\n",
    "                I[j]=self.objective_function(population[j])\n",
    "#             I = np.array([self.objective_function(j) for j in population])\n",
    "            \n",
    "            ## Calculate the frangrance\n",
    "            F = self.__calculate_fragrance(I,a)\n",
    "            \n",
    "            ## Get the best index of best butterfly from populations\n",
    "            best_butterfly=self.__find_best_butterfly(population,I)\n",
    "            \n",
    "            global_best = self.__update_global_best_butterfly(global_best,best_butterfly)\n",
    "            \n",
    "            ## Update the populations \n",
    "            populations = self.__update_population(population,best_butterfly[0],F)\n",
    "            \n",
    "            #a = np.random.rand()\n",
    "            #self.c += 0.025/(self.c*self.max_iter)\n",
    "        return global_best\n",
    "    "
   ]
  },
  {
   "cell_type": "markdown",
   "id": "0de6944f",
   "metadata": {},
   "source": [
    "# Testing the Algorithm with objective function"
   ]
  },
  {
   "cell_type": "code",
   "execution_count": 3,
   "id": "4e2350fb",
   "metadata": {},
   "outputs": [],
   "source": [
    "from benchmarking.benchmark import *\n",
    "function=[Sphere,Schwefel_2_22,Schwefel_1_2,Rosenbrock,Step,Quartic_with_noise,Ackley,SumSquare]"
   ]
  },
  {
   "cell_type": "code",
   "execution_count": 6,
   "id": "68ea5400",
   "metadata": {},
   "outputs": [
    {
     "name": "stdout",
     "output_type": "stream",
     "text": [
      "Sphere\t ==> Min = 52534.49741130868 Max = 69222.89718400502 Mean = 61657.74238469373\n"
     ]
    },
    {
     "name": "stderr",
     "output_type": "stream",
     "text": [
      "C:\\Users\\mdobn\\AppData\\Local\\Temp\\ipykernel_4992\\670563861.py:23: RuntimeWarning: invalid value encountered in power\n",
      "  return self.c*np.power(I,a)\n"
     ]
    },
    {
     "name": "stdout",
     "output_type": "stream",
     "text": [
      "Schwefel_2_22\t ==> Min = -4.138093512526212e+23 Max = -1.3605129354872691e+20 Mean = -4.6047637344469e+22\n",
      "Schwefel_1_2\t ==> Min = 818067.9209266057 Max = 2018534.0662891786 Mean = 1359136.1507299882\n",
      "Rosenbrock\t ==> Min = 125717271.45401222 Max = 269671308.03383386 Mean = 205437855.57869393\n",
      "Step\t ==> Min = 50141.0217814303 Max = 71653.18556728025 Mean = 62224.356441342294\n",
      "Quartic_with_noise\t ==> Min = 2300344309.8378234 Max = 5126193716.145377 Mean = 3861410085.6258435\n",
      "Ackley\t ==> Min = 20.245624593261255 Max = 20.762198254253168 Mean = 20.532828511059098\n",
      "SumSquare\t ==> Min = 5745.599028128807 Max = 10279.506404154461 Mean = 8729.961745343016\n"
     ]
    }
   ],
   "source": [
    "for i in function:\n",
    "    func=i()\n",
    "    values=np.empty(30)\n",
    "    for l in range(30):\n",
    "        lb = np.array([func.range[0]]).repeat(func.dim)\n",
    "        ub = np.array([func.range[1]]).repeat(func.dim)\n",
    "        boa = ButterflyOptimization()\n",
    "        boa.compile_algorithm(func.get_algorithm(),dimension=func.dim,lb=lb,ub=ub,c=0.01,population_size=100,max_iter=100,optimization=\"minimize\")\n",
    "        values[l]=boa.calculate_optimal_value()[-1]\n",
    "    print(f\"{func.name}\\t ==> Min = {np.min(values)} Max = {np.max(values)} Mean = {np.mean(values)}\")"
   ]
  },
  {
   "cell_type": "code",
   "execution_count": null,
   "id": "ffe7c96f",
   "metadata": {},
   "outputs": [],
   "source": []
  }
 ],
 "metadata": {
  "kernelspec": {
   "display_name": "Python 3 (ipykernel)",
   "language": "python",
   "name": "python3"
  },
  "language_info": {
   "codemirror_mode": {
    "name": "ipython",
    "version": 3
   },
   "file_extension": ".py",
   "mimetype": "text/x-python",
   "name": "python",
   "nbconvert_exporter": "python",
   "pygments_lexer": "ipython3",
   "version": "3.8.10"
  }
 },
 "nbformat": 4,
 "nbformat_minor": 5
}
