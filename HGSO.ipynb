{
 "cells": [
  {
   "cell_type": "code",
   "execution_count": 1,
   "id": "b1b4f4be",
   "metadata": {},
   "outputs": [],
   "source": [
    "import numpy as np"
   ]
  },
  {
   "cell_type": "code",
   "execution_count": 37,
   "id": "b5d3e64f",
   "metadata": {},
   "outputs": [],
   "source": [
    "class HGSO:\n",
    "    def __init__(self):\n",
    "        self.l1 = 5e-2\n",
    "        self.l2 = 100\n",
    "        self.l3 = 1e-2\n",
    "        self.maximum_optimization = 1\n",
    "        self.t0 = 298.15\n",
    "        self.K = 1\n",
    "        self.epsilon=0.05\n",
    "        self.c1 = 0.1\n",
    "        self.c2 = 0.2\n",
    "        self.compiled = 0\n",
    "        self.population = None\n",
    "        self.fitnesses = None\n",
    "        self.X_best = None\n",
    "        self.Xi_best = None\n",
    "        self.best_fitness = None\n",
    "        \n",
    "    def compile(self,obj,lb,ub,dim,n_population=100,n_cluster=5,alpha=1.0,beta=1.0,optimization=\"maximize\"):\n",
    "        if n_population%n_cluster != 0:\n",
    "            raise Exception(\"Number of search agent in each cluster shoudl be same\")\n",
    "        self.dim = dim\n",
    "        self.lb = lb\n",
    "        self.ub = ub\n",
    "        self.alpha = alpha\n",
    "        self.beta = beta\n",
    "        self.n_population = n_population\n",
    "        self.n_cluster = n_cluster\n",
    "        self.optimization = optimization\n",
    "        self.comp_id = 0 if optimization == \"maximize\" else -1\n",
    "        self.obj = obj\n",
    "        self.compiled = 1\n",
    "    \n",
    "    def __get_fitness(self,X):\n",
    "        if self.optimization == \"maximize\":\n",
    "            return self.obj(X)\n",
    "        elif self.optimization == \"minimize\":\n",
    "            return 1/(self.obj(X)+0.002)\n",
    "        \n",
    "    def __initialize_population(self,dim,n_population,n_cluster):\n",
    "        population = np.random.uniform(self.lb,self.ub,size=(self.n_population,self.dim))\n",
    "        fitness = []\n",
    "        for x in population:\n",
    "            fitness.append(self.__get_fitness(x))\n",
    "        return population,np.array(fitness)\n",
    "    \n",
    "    def __initialize_constant(self,n_population,n_cluster):\n",
    "        h_j = (self.l1 * np.random.uniform(0,1,n_cluster)).reshape(-1,1)\n",
    "        C_j = (self.l3 * np.random.uniform(0,1,n_cluster)).reshape(-1,1)\n",
    "        n_j = n_population//n_cluster\n",
    "        P_ij = self.l2 * np.random.uniform(0,1,size=(n_cluster,n_j))\n",
    "        return h_j,C_j,P_ij\n",
    "    \n",
    "    def __get_cluster_best(self,population_fitness,n_cluster):\n",
    "        n_element = self.n_population//n_cluster\n",
    "        cluster_best = []\n",
    "        \n",
    "        for i in range(n_cluster):\n",
    "            li = i*n_element\n",
    "            ui = li + n_element\n",
    "            best = np.argsort(population_fitness[li:ui])[-1]\n",
    "            cluster_best.append(i*n_element+best)\n",
    "        return np.array(cluster_best)\n",
    "    \n",
    "    def __get_population_best(self,population_fitness):\n",
    "        return self.__get_cluster_best(population_fitness,1)\n",
    "        \n",
    "    def __update_h_j(self,max_iter,t):\n",
    "        T = t/max_iter\n",
    "        h_j = self.h_j * np.exp(-self.C_j*((1.0/T)-(1.0/self.t0)))\n",
    "        \n",
    "        return h_j\n",
    "    \n",
    "    def __update_S_ij(self,h_j,P_ij):\n",
    "        S_ij = self.K * h_j * P_ij\n",
    "        \n",
    "        return S_ij\n",
    "    \n",
    "    def __update_worst_agent(self):\n",
    "        #Getting the value of N_w\n",
    "        N_w = int(self.n_population * (np.random.uniform(0,self.c2-self.c1)+self.c1))\n",
    "        # Getting the index of worst agent in the population\n",
    "        \n",
    "        worst_pop_index = np.argsort(self.fitnesses)[:N_w]\n",
    "        #print(f\"N_w: {N_w}\")\n",
    "        # Updating the worst agent in the population\n",
    "        self.population[worst_pop_index] = np.random.uniform(self.lb,self.ub,size=(N_w,self.dim))\n",
    "        # Updating the fitnesses of newly assigned agent\n",
    "        for i in worst_pop_index:\n",
    "            self.fitnesses[i] = self.__get_fitness(self.population[i])\n",
    "    \n",
    "    def __update_global_best(self):\n",
    "        best_id = self.__get_population_best(self.fitnesses)\n",
    "        #print(best_id)\n",
    "        if self.best_fitness == None or self.best_fitness < self.fitnesses[best_id]:\n",
    "            self.X_best = self.population[best_id]\n",
    "            self.best_fitness = self.fitnesses[best_id]\n",
    "        \n",
    "    def __update_population(self):\n",
    "        # Setting the F value according to a random number to make the update diverse\n",
    "        F = []\n",
    "        for i  in range(self.n_population):\n",
    "            f = -1 if np.random.uniform() < 0.5 else 1\n",
    "            F.append(f)\n",
    "        F = np.array(F).reshape(-1,1)\n",
    "        #print(F.shape)\n",
    "        #print(\"Hello World\")\n",
    "        \n",
    "        # r is a random value\n",
    "        r = np.random.uniform(0,1,size=(self.n_population,1))\n",
    "        \n",
    "        # Getting the number of population in a clusters\n",
    "        n_cluster_population = self.n_population//self.n_cluster\n",
    "        \n",
    "        #Getting the best search agent in cluster and best agent in the whole population\n",
    "        X_best = self.X_best\n",
    "        Xi_best = self.population[self.Xi_best].repeat(n_cluster_population,axis=0)\n",
    "        \n",
    "        # Getting the value of constant  gamma\n",
    "        epsilon = 0.05\n",
    "        best_fitnesses = self.fitnesses[self.Xi_best].repeat(n_cluster_population)\n",
    "\n",
    "        gamma = self.beta * np.exp(-(best_fitnesses+self.epsilon)/(self.fitnesses+self.epsilon))\n",
    "        gamma = gamma.reshape(-1,1)\n",
    "        updated_population = self.population * F * r * gamma * (Xi_best-self.population) + F * r * self.alpha * (self.S_ij.reshape(-1,1) * X_best + self.population)\n",
    "        updated_population = np.clip(updated_population,self.lb,self.ub)\n",
    "        #print(gamma.shape)\n",
    "        fitnesses = []\n",
    "        for i in updated_population:\n",
    "            fitnesses.append(self.__get_fitness(i))\n",
    "        return updated_population,np.array(fitnesses)\n",
    "    \n",
    "    def train(self,max_iter):\n",
    "        # Checking if compiled\n",
    "        if self.compiled == 0:\n",
    "            raise Exception(\"You have to compile first.\")\n",
    "        # Initializing the population and cluster, calculating the fitness of the populations\n",
    "        self.population,self.fitnesses= self.__initialize_population(self.dim,self.n_population,self.n_cluster)\n",
    "        \n",
    "        # Intializing the Necessary constant\n",
    "        self.h_j,self.C_j,self.P_ij = self.__initialize_constant(self.n_population,self.n_cluster)\n",
    "        # Getting the fitness and getting the best gasses in the clusters and in the swarm\n",
    "        \n",
    "        # Getting the index of best search agent in population and clusters\n",
    "        #self.X_best = self.__get_population_best(self.fitnesses)\n",
    "        #self.Xi_best = self.__get_cluster_best(self.fitnesses,self.n_cluster)\n",
    "        \n",
    "        for i in range(max_iter):\n",
    "            \n",
    "            # Evaluating the current populations using fitnesses\n",
    "            self.__update_global_best()\n",
    "            \n",
    "            self.Xi_best = self.__get_cluster_best(self.fitnesses,self.n_cluster)\n",
    "            \n",
    "            # Updating the Henry Gas Constant for each cluster\n",
    "            self.h_j = self.__update_h_j(max_iter,i+1)\n",
    "\n",
    "            # Updating the solubility of the gas\n",
    "            self.S_ij = self.__update_S_ij(self.h_j,self.P_ij)\n",
    "            self.population,self.fitnesses = self.__update_population()\n",
    "            \n",
    "            # Updating the position of worst agent in the population\n",
    "            self.__update_worst_agent()\n",
    "            if (i+1) % 10 == 0:\n",
    "                print(f\"Iter {i+1}:\\t Best Value: {self.obj(self.X_best[0])}\")"
   ]
  },
  {
   "cell_type": "code",
   "execution_count": 38,
   "id": "2e4735bb",
   "metadata": {},
   "outputs": [],
   "source": [
    "hgso = HGSO()"
   ]
  },
  {
   "cell_type": "code",
   "execution_count": 39,
   "id": "b80df91c",
   "metadata": {},
   "outputs": [],
   "source": [
    "def Sphere_func(x):\n",
    "    fitness = 0.0\n",
    "    for i in range(len(x)):\n",
    "        fitness += (x[i]*x[i])\n",
    "    return fitness\n",
    "\n",
    "dim = 30\n",
    "lb = np.array([-10.0],dtype='f').repeat(dim)\n",
    "ub = np.array([10.0],dtype='f').repeat(dim)\n",
    "max_iter = 100"
   ]
  },
  {
   "cell_type": "code",
   "execution_count": 40,
   "id": "8d86097b",
   "metadata": {},
   "outputs": [],
   "source": [
    "hgso.compile(Sphere_func,lb,ub,dim,optimization=\"minimize\")"
   ]
  },
  {
   "cell_type": "code",
   "execution_count": 41,
   "id": "2a009661",
   "metadata": {},
   "outputs": [
    {
     "name": "stdout",
     "output_type": "stream",
     "text": [
      "Iter 10:\t Best Value: 2.5589016713451498e-15\n",
      "Iter 20:\t Best Value: 6.367586790841844e-20\n",
      "Iter 30:\t Best Value: 6.367586790841844e-20\n",
      "Iter 40:\t Best Value: 6.367586790841844e-20\n",
      "Iter 50:\t Best Value: 6.367586790841844e-20\n",
      "Iter 60:\t Best Value: 6.367586790841844e-20\n",
      "Iter 70:\t Best Value: 6.367586790841844e-20\n",
      "Iter 80:\t Best Value: 6.367586790841844e-20\n",
      "Iter 90:\t Best Value: 6.367586790841844e-20\n",
      "Iter 100:\t Best Value: 6.367586790841844e-20\n"
     ]
    }
   ],
   "source": [
    "hgso.train(100)"
   ]
  },
  {
   "cell_type": "code",
   "execution_count": null,
   "id": "d6e02e68",
   "metadata": {},
   "outputs": [],
   "source": [
    "sphere_func(x):\n",
    "    X = [x1,x2,x3,x4]\n",
    "    return x1**2+x2**2+x3**2+x4**2"
   ]
  },
  {
   "cell_type": "code",
   "execution_count": 3,
   "id": "a230650f",
   "metadata": {},
   "outputs": [
    {
     "name": "stdout",
     "output_type": "stream",
     "text": [
      "<function Sphere.get_algorithm.<locals>.sphere_func at 0x7f2354464820>\n"
     ]
    }
   ],
   "source": [
    "\n",
    "class Sphere():\n",
    "    def __init__(self,dim,opt_value):\n",
    "        self.dim=dim\n",
    "        self.opt_value = opt_value\n",
    "        self.optimization = 'minimize'\n",
    "    \n",
    "    def get_algorithm(self):\n",
    "        def sphere_func(x):\n",
    "            res=0\n",
    "            for i in x:\n",
    "                res+=i**2\n",
    "            return res\n",
    "        return sphere_func\n",
    "    \n",
    "sphere = Sphere(3,0)\n",
    "print(sphere.get_algorithm())"
   ]
  },
  {
   "cell_type": "code",
   "execution_count": 9,
   "id": "3a150a81",
   "metadata": {},
   "outputs": [],
   "source": [
    "from benchmarking.benchmark import *"
   ]
  },
  {
   "cell_type": "code",
   "execution_count": 4,
   "id": "ae68af10",
   "metadata": {},
   "outputs": [],
   "source": [
    "ac = Ackley()"
   ]
  },
  {
   "cell_type": "code",
   "execution_count": 5,
   "id": "9c3b83a4",
   "metadata": {},
   "outputs": [
    {
     "data": {
      "text/plain": [
       "<function benchmarking.benchmark.Ackley.get_algorithm.<locals>.ackley_func(x)>"
      ]
     },
     "execution_count": 5,
     "metadata": {},
     "output_type": "execute_result"
    }
   ],
   "source": [
    "ac.get_algorithm()"
   ]
  },
  {
   "cell_type": "code",
   "execution_count": 6,
   "id": "d52214f1",
   "metadata": {},
   "outputs": [
    {
     "data": {
      "text/plain": [
       "30"
      ]
     },
     "execution_count": 6,
     "metadata": {},
     "output_type": "execute_result"
    }
   ],
   "source": [
    "ac.dim"
   ]
  },
  {
   "cell_type": "code",
   "execution_count": 7,
   "id": "59d08a93",
   "metadata": {},
   "outputs": [
    {
     "data": {
      "text/plain": [
       "(-32, 32)"
      ]
     },
     "execution_count": 7,
     "metadata": {},
     "output_type": "execute_result"
    }
   ],
   "source": [
    "ac.range"
   ]
  },
  {
   "cell_type": "code",
   "execution_count": null,
   "id": "715880fa",
   "metadata": {},
   "outputs": [],
   "source": []
  }
 ],
 "metadata": {
  "kernelspec": {
   "display_name": "Python 3 (ipykernel)",
   "language": "python",
   "name": "python3"
  },
  "language_info": {
   "codemirror_mode": {
    "name": "ipython",
    "version": 3
   },
   "file_extension": ".py",
   "mimetype": "text/x-python",
   "name": "python",
   "nbconvert_exporter": "python",
   "pygments_lexer": "ipython3",
   "version": "3.10.9"
  }
 },
 "nbformat": 4,
 "nbformat_minor": 5
}
