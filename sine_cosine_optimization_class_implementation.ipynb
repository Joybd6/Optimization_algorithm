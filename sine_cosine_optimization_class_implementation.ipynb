{
 "cells": [
  {
   "cell_type": "code",
   "execution_count": 1,
   "id": "b87add77",
   "metadata": {},
   "outputs": [],
   "source": [
    "import numpy as np"
   ]
  },
  {
   "cell_type": "code",
   "execution_count": 5,
   "id": "ee533146",
   "metadata": {},
   "outputs": [
    {
     "name": "stdout",
     "output_type": "stream",
     "text": [
      "[[0.53535747 0.41675608 0.98922961 0.48258172 0.94529622 0.34727495\n",
      "  0.18872267 0.88398712 0.35392968 0.44560466]\n",
      " [0.49190641 0.14189956 0.7370002  0.66960612 0.6332764  0.6940282\n",
      "  0.6394224  0.8623481  0.12001771 0.23939769]\n",
      " [0.207647   0.01996924 0.25419932 0.92725891 0.61198346 0.11875531\n",
      "  0.86781856 0.46130609 0.572977   0.28839685]\n",
      " [0.6277212  0.70447301 0.74389296 0.22361916 0.48473753 0.18815458\n",
      "  0.23690646 0.88424848 0.15228795 0.77963565]\n",
      " [0.71519777 0.63775781 0.17825317 0.71498745 0.80717772 0.6603122\n",
      "  0.49112675 0.95177922 0.88739788 0.38601621]]\n",
      "[[1.53535747 1.41675608 1.98922961 1.48258172 1.94529622 1.34727495\n",
      "  1.18872267 1.88398712 1.35392968 1.44560466]\n",
      " [1.49190641 1.14189956 1.7370002  1.66960612 1.6332764  1.6940282\n",
      "  1.6394224  1.8623481  1.12001771 1.23939769]\n",
      " [1.207647   1.01996924 1.25419932 1.92725891 1.61198346 1.11875531\n",
      "  1.86781856 1.46130609 1.572977   1.28839685]\n",
      " [1.6277212  1.70447301 1.74389296 1.22361916 1.48473753 1.18815458\n",
      "  1.23690646 1.88424848 1.15228795 1.77963565]\n",
      " [1.71519777 1.63775781 1.17825317 1.71498745 1.80717772 1.6603122\n",
      "  1.49112675 1.95177922 1.88739788 1.38601621]]\n",
      "(5, 10)\n"
     ]
    }
   ],
   "source": []
  },
  {
   "cell_type": "code",
   "execution_count": 2,
   "id": "db822bc2",
   "metadata": {},
   "outputs": [],
   "source": [
    "class SineCosineOptimization():\n",
    "    def __init__(self):\n",
    "        ...\n",
    "        \n",
    "    def compile(self,obj,dimension,lb,ub,a=2,population_size=100,max_iter=100,optimization=\"maximize\"):\n",
    "        self.objective_function = obj\n",
    "        self.dimension = dimension\n",
    "        self.lb=lb\n",
    "        self.ub=ub\n",
    "        self.a=a\n",
    "        self.max_iter = max_iter\n",
    "        self.optimization = optimization\n",
    "        self.population_size=population_size\n",
    "    \n",
    "    def __initialize_population(self,population_size,dim,lb,ub):\n",
    "        return lb+np.random.rand(population_size,dim)*(ub-lb)\n",
    "    \n",
    "    def __update_R(self,current_iter,max_iter,a):\n",
    "        r1 = a-a*(current_iter/max_iter)\n",
    "        r2 = 2*np.pi*np.random.rand()\n",
    "        r3 = np.random.rand()\n",
    "        r4 = np.random.rand()\n",
    "    \n",
    "        return r1,r2,r3,r4\n",
    "    \n",
    "    def __update_population(self,populations,fittest_candidate,r1,r2,r3,r4,lb,ub):\n",
    "        if r4 < 0.5:\n",
    "            populations = populations + r1*np.sin(r2)*np.abs(r3*fittest_candidate-populations)\n",
    "        else:\n",
    "            populations = populations + r1*np.cos(r2)*np.abs(r3*fittest_candidate-populations)\n",
    "        \n",
    "        return np.clip(populations,lb,ub)\n",
    "    \n",
    "    def calculate_optimal_value(self):\n",
    "\n",
    "        #Initialize the variable for  fittest candidate\n",
    "        fittest_candidate=None\n",
    "        candidate_evaluations = np.empty([self.population_size])\n",
    "\n",
    "        #Initialize the random population\n",
    "        populations = self.__initialize_population(self.population_size,self.dimension,self.lb,self.ub)\n",
    "\n",
    "        ## This is the iteration loop.\n",
    "        for i in range(self.max_iter):\n",
    "\n",
    "            ## This loop will go through the all population of candidate and process them one by one\n",
    "            for j in range(populations.shape[0]):\n",
    "                candidate_evaluations[j]=self.objective_function(populations[j,:])\n",
    "\n",
    "\n",
    "            ## Determining the fittest candidate\n",
    "            if self.optimization == \"maximize\":\n",
    "                fittest_indice = np.argmax(candidate_evaluations)\n",
    "            elif self.optimization == \"minimize\":\n",
    "                fittest_indice = np.argmin(candidate_evaluations)\n",
    "\n",
    "\n",
    "            ## Updating the fittest candidate\n",
    "\n",
    "            if fittest_candidate == None:\n",
    "                fittest_candidate = (populations[fittest_indice,:],candidate_evaluations[fittest_indice])\n",
    "            else:\n",
    "                current_fittest = (populations[fittest_indice,:],candidate_evaluations[fittest_indice])\n",
    "                if self.optimization == \"maximize\" and fittest_candidate[1] < current_fittest[1]:\n",
    "                    fittest_candidate = current_fittest\n",
    "\n",
    "                if self.optimization == \"minimize\" and fittest_candidate[1] > current_fittest[1]:\n",
    "                    fittest_candidate = current_fittest\n",
    "\n",
    "            ## Updating the value of r1,r2,r3, and r4\n",
    "            r1,r2,r3,r4 = self.__update_R(i,self.max_iter,self.a)\n",
    "\n",
    "            ## Update the population\n",
    "            \n",
    "            for index,value in enumerate(populations):\n",
    "                populations[index:] = self.__update_population(value,fittest_candidate[0],r1,r2,r3,r4,self.lb,self.ub)\n",
    "\n",
    "            populations[index,:] = self.__update_population(populations,fittest_candidate[0],r1,r2,r3,r4,self.lb,self.ub)\n",
    "\n",
    "        return fittest_candidate\n",
    "    \n",
    "    def one_step_update(self,populations,pop_id,iteration,fittest_candidate=None):\n",
    "        \n",
    "        # Initialize candidate evaluation variables\n",
    "        candidate_evaluations = np.empty([self.population_size])\n",
    "        \n",
    "        # Calculate the candidate evaluation using objective function\n",
    "        for j in range(populations.shape[0]):\n",
    "            candidate_evaluations[j]=self.objective_function(populations[j,:])\n",
    "        \n",
    "         ## Determining the fittest candidate\n",
    "        if self.optimization == \"maximize\":\n",
    "            fittest_indice = np.argmax(candidate_evaluations)\n",
    "        elif self.optimization == \"minimize\":\n",
    "            fittest_indice = np.argmin(candidate_evaluations)\n",
    "        if fittest_candidate == None:\n",
    "            fittest_candidate = (populations[fittest_indice,:],candidate_evaluations[fittest_indice])\n",
    "        \n",
    "        r1,r2,r3,r4 = self.__update_R(iteration,self.max_iter,self.a)\n",
    "        \n",
    "        populations[pop_id,:] = self.__update_population(populations[pop_id,:],fittest_candidate[0],r1,r2,r3,r4,self.lb,self.ub)\n",
    "        \n",
    "        r\n",
    "        "
   ]
  },
  {
   "cell_type": "markdown",
   "id": "2003d5a4",
   "metadata": {},
   "source": [
    "### Testing the Algorithm"
   ]
  },
  {
   "cell_type": "code",
   "execution_count": 3,
   "id": "c358f124",
   "metadata": {},
   "outputs": [],
   "source": [
    "def obj_f(x):\n",
    "    return x[0]/x[1]+x[1]+x[2]"
   ]
  },
  {
   "cell_type": "code",
   "execution_count": 8,
   "id": "0ced21de",
   "metadata": {},
   "outputs": [
    {
     "name": "stdout",
     "output_type": "stream",
     "text": [
      "(array([-4.85413756e-02, -1.54133665e-07,  8.26770574e-02]), 314930.47512924374)\n"
     ]
    }
   ],
   "source": [
    "lb = np.array([-100,-100,-100])\n",
    "ub = np.array([100,100,100])\n",
    "dimension = 3\n",
    "max_iter=50\n",
    "population_size=100\n",
    "model = SineCosineOptimization()\n",
    "model.compile(obj_f,dimension,lb,ub,max_iter=max_iter,population_size=population_size)\n",
    "answer = model.calculate_optimal_value()\n",
    "print(answer)"
   ]
  },
  {
   "cell_type": "code",
   "execution_count": 9,
   "id": "6368f40c",
   "metadata": {},
   "outputs": [
    {
     "name": "stdout",
     "output_type": "stream",
     "text": [
      "(array([10., 10.]), 20.0)\n"
     ]
    }
   ],
   "source": [
    "def sums(X):\n",
    "    return X[0]+X[1]\n",
    "lb = np.array([-10,-10])\n",
    "ub = np.array([10,10])\n",
    "dimension = 2\n",
    "max_iter=50\n",
    "population_size=100\n",
    "model = SineCosineOptimization()\n",
    "model.compile(sums,dimension,lb,ub,max_iter=max_iter,population_size=population_size)\n",
    "answer = model.calculate_optimal_value()\n",
    "print(answer)"
   ]
  },
  {
   "cell_type": "code",
   "execution_count": null,
   "id": "569dc385",
   "metadata": {},
   "outputs": [],
   "source": []
  }
 ],
 "metadata": {
  "kernelspec": {
   "display_name": "Python 3 (ipykernel)",
   "language": "python",
   "name": "python3"
  },
  "language_info": {
   "codemirror_mode": {
    "name": "ipython",
    "version": 3
   },
   "file_extension": ".py",
   "mimetype": "text/x-python",
   "name": "python",
   "nbconvert_exporter": "python",
   "pygments_lexer": "ipython3",
   "version": "3.10.9"
  }
 },
 "nbformat": 4,
 "nbformat_minor": 5
}
