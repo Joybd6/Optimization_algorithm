{
 "cells": [
  {
   "cell_type": "code",
   "execution_count": 3,
   "id": "b87add77",
   "metadata": {},
   "outputs": [],
   "source": [
    "import numpy as np"
   ]
  },
  {
   "cell_type": "code",
   "execution_count": 20,
   "id": "db822bc2",
   "metadata": {},
   "outputs": [],
   "source": [
    "class SineCosineOptimization():\n",
    "    def __init__(self):\n",
    "        ...\n",
    "        \n",
    "    def compile(self,obj,dimension,lb,ub,a=2,population_size=100,max_iter=100,optimization=\"maximize\"):\n",
    "        self.objective_function = obj\n",
    "        self.dimension = dimension\n",
    "        self.lb=lb\n",
    "        self.ub=ub\n",
    "        self.a=a\n",
    "        self.max_iter = max_iter\n",
    "        self.optimization = optimization\n",
    "        self.population_size=population_size\n",
    "    \n",
    "    def __initialize_population(self,population_size,dim,lb,ub):\n",
    "        return lb+np.random.rand(population_size,dim)*(ub-lb)\n",
    "    \n",
    "    def __update_R(self,current_iter,max_iter,a):\n",
    "        r1 = a-a*(current_iter/max_iter)\n",
    "        r2 = 2*np.pi*np.random.rand()\n",
    "        r3 = np.random.rand()\n",
    "        r4 = np.random.rand()\n",
    "    \n",
    "        return r1,r2,r3,r4\n",
    "    \n",
    "    def __update_population(self,populations,fittest_candidate,r1,r2,r3,r4,lb,ub):\n",
    "        if r4 < 0.5:\n",
    "            populations = populations + r1*np.sin(r2)*np.abs(r3*fittest_candidate-populations)\n",
    "        else:\n",
    "            populations = populations + r1*np.cos(r2)*np.abs(r3*fittest_candidate-populations)\n",
    "        \n",
    "        return np.clip(populations,lb,ub)\n",
    "    \n",
    "    def calculate_optimal_value(self):\n",
    "\n",
    "        #Initialize the variable for  fittest candidate\n",
    "        fittest_candidate=None\n",
    "        candidate_evaluations = np.empty([self.population_size])\n",
    "\n",
    "        #Initialize the random population\n",
    "        populations = self.__initialize_population(self.population_size,self.dimension,self.lb,self.ub)\n",
    "\n",
    "        ## This is the iteration loop.\n",
    "        for i in range(self.max_iter):\n",
    "\n",
    "            ## This loop will go through the all population of candidate and process them one by one\n",
    "            for j in range(populations.shape[0]):\n",
    "                candidate_evaluations[j]=self.objective_function(populations[j,:])\n",
    "\n",
    "\n",
    "            ## Determining the fittest candidate\n",
    "            if self.optimization == \"maximize\":\n",
    "                fittest_indice = np.argmax(candidate_evaluations)\n",
    "            elif self.optimization == \"minimize\":\n",
    "                fittest_indice = np.argmin(candidate_evaluations)\n",
    "\n",
    "\n",
    "            ## Updating the fittest candidate\n",
    "\n",
    "            if fittest_candidate == None:\n",
    "                fittest_candidate = (populations[fittest_indice,:],candidate_evaluations[fittest_indice])\n",
    "            else:\n",
    "                current_fittest = (populations[fittest_indice,:],candidate_evaluations[fittest_indice])\n",
    "                if self.optimization == \"maximize\" and fittest_candidate[1] < current_fittest[1]:\n",
    "                    fittest_candidate = current_fittest\n",
    "\n",
    "                if self.optimization == \"minimize\" and fittest_candidate[1] > current_fittest[1]:\n",
    "                    fittest_candidate = current_fittest\n",
    "\n",
    "            ## Updating the value of r1,r2,r3, and r4\n",
    "            r1,r2,r3,r4 = self.__update_R(i,self.max_iter,self.a)\n",
    "\n",
    "            ## Update the population\n",
    "\n",
    "            populations = self.__update_population(populations,fittest_candidate[0],r1,r2,r3,r4,self.lb,self.ub)\n",
    "\n",
    "        return fittest_candidate"
   ]
  },
  {
   "cell_type": "markdown",
   "id": "2003d5a4",
   "metadata": {},
   "source": [
    "### Testing the Algorithm"
   ]
  },
  {
   "cell_type": "code",
   "execution_count": 5,
   "id": "c358f124",
   "metadata": {},
   "outputs": [],
   "source": [
    "def obj_f(x):\n",
    "    return x[0]/x[1]+x[1]+x[2]"
   ]
  },
  {
   "cell_type": "code",
   "execution_count": 19,
   "id": "0ced21de",
   "metadata": {},
   "outputs": [
    {
     "name": "stdout",
     "output_type": "stream",
     "text": [
      "(array([ 1.36495826e+01, -3.12243145e-05, -3.32407939e-02]), -437145.9826570684)\n"
     ]
    }
   ],
   "source": [
    "lb = np.array([-100,-100,-100])\n",
    "ub = np.array([100,100,100])\n",
    "dimension = 3\n",
    "max_iter=50\n",
    "population_size=100\n",
    "model = SineCosineOptimization()\n",
    "model.compile(obj_f,dimension,lb,ub,max_iter=max_iter,population_size=population_size)\n",
    "answer = model.calculate_optimal_value()\n",
    "print(answer)"
   ]
  },
  {
   "cell_type": "code",
   "execution_count": null,
   "id": "6368f40c",
   "metadata": {},
   "outputs": [],
   "source": []
  }
 ],
 "metadata": {
  "kernelspec": {
   "display_name": "Python 3",
   "language": "python",
   "name": "python3"
  },
  "language_info": {
   "codemirror_mode": {
    "name": "ipython",
    "version": 3
   },
   "file_extension": ".py",
   "mimetype": "text/x-python",
   "name": "python",
   "nbconvert_exporter": "python",
   "pygments_lexer": "ipython3",
   "version": "3.8.10"
  }
 },
 "nbformat": 4,
 "nbformat_minor": 5
}
