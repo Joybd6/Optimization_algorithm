{
 "cells": [
  {
   "cell_type": "code",
   "execution_count": 3,
   "id": "b87add77",
   "metadata": {},
   "outputs": [],
   "source": [
    "import numpy as np"
   ]
  },
  {
   "cell_type": "code",
   "execution_count": 4,
   "id": "db822bc2",
   "metadata": {},
   "outputs": [],
   "source": [
    "class SineCosineOptimization():\n",
    "    def __init__(self):\n",
    "        ...\n",
    "        \n",
    "    def compile(self,obj,population_size,dimension,lb,ub,max_iter,a=2,optimization=\"minimize\"):\n",
    "        self.objective_function = obj\n",
    "        self.dimension = dimension\n",
    "        self.lb=lb\n",
    "        self.ub=ub\n",
    "        self.a=a\n",
    "        self.max_iter = max_iter\n",
    "        self.optimization = optimization\n",
    "        self.population_size=population_size\n",
    "    \n",
    "    def __initialize_population(self,population_size,dim,lb,ub):\n",
    "        return lb+np.random.rand(population_size,dim)*(ub-lb)\n",
    "    \n",
    "    def __update_R(self,current_iter,max_iter,a):\n",
    "        r1 = a-a*(current_iter/max_iter)\n",
    "        r2 = 2*np.pi*np.random.rand()\n",
    "        r3 = np.random.rand()\n",
    "        r4 = np.random.rand()\n",
    "    \n",
    "        return r1,r2,r3,r4\n",
    "    \n",
    "    def __update_population(self,populations,fittest_candidate,r1,r2,r3,r4,lb,ub):\n",
    "        if r4 < 0.5:\n",
    "            populations = populations + r1*np.sin(r2)*np.abs(r3*fittest_candidate-populations)\n",
    "        else:\n",
    "            populations = populations + r1*np.cos(r2)*np.abs(r3*fittest_candidate-populations)\n",
    "        \n",
    "        return np.clip(populations,lb,ub)\n",
    "    \n",
    "    def calculate_optimal_value(self):\n",
    "\n",
    "        #Initialize the variable for  fittest candidate\n",
    "        fittest_candidate=None\n",
    "        candidate_evaluations = np.empty([self.population_size])\n",
    "\n",
    "        #Initialize the random population\n",
    "        populations = self.__initialize_population(self.population_size,self.dimension,self.lb,self.ub)\n",
    "\n",
    "        ## This is the iteration loop.\n",
    "        for i in range(self.max_iter):\n",
    "\n",
    "            ## This loop will go through the all population of candidate and process them one by one\n",
    "            for j in range(populations.shape[0]):\n",
    "                candidate_evaluations[j]=self.objective_function(populations[j,:])\n",
    "\n",
    "\n",
    "            ## Determining the fittest candidate\n",
    "            if self.optimization == \"maximize\":\n",
    "                fittest_indice = np.argmax(candidate_evaluations)\n",
    "            elif self.optimization == \"minimize\":\n",
    "                fittest_indice = np.argmin(candidate_evaluations)\n",
    "\n",
    "\n",
    "            ## Updating the fittest candidate\n",
    "\n",
    "            if fittest_candidate == None:\n",
    "                fittest_candidate = (populations[fittest_indice,:],candidate_evaluations[fittest_indice])\n",
    "            else:\n",
    "                current_fittest = (populations[fittest_indice,:],candidate_evaluations[fittest_indice])\n",
    "                if self.optimization == \"maximize\" and fittest_candidate[1] < current_fittest[1]:\n",
    "                    fittest_candidate = current_fittest\n",
    "\n",
    "                if self.optimization == \"minimize\" and fittest_candidate[1] > current_fittest[1]:\n",
    "                    fittest_candidate = current_fittest\n",
    "\n",
    "            ## Updating the value of r1,r2,r3, and r4\n",
    "            r1,r2,r3,r4 = self.__update_R(i,self.max_iter,self.a)\n",
    "\n",
    "            ## Update the population\n",
    "            \n",
    "            for index,value in enumerate(populations):\n",
    "                populations[index:] = self.__update_population(value,fittest_candidate[0],r1,r2,r3,r4,self.lb,self.ub)\n",
    "\n",
    "    \n",
    "\n",
    "        return fittest_candidate\n",
    "    \n",
    "    def one_step_update(self,populations,pop_id,iteration,fittest_candidate=None):\n",
    "        \n",
    "        # Initialize candidate evaluation variables\n",
    "        candidate_evaluations = np.empty([self.population_size])\n",
    "        \n",
    "        # Calculate the candidate evaluation using objective function\n",
    "        for j in range(populations.shape[0]):\n",
    "            candidate_evaluations[j]=self.objective_function(populations[j,:])\n",
    "        \n",
    "         ## Determining the fittest candidate\n",
    "        if self.optimization == \"maximize\":\n",
    "            fittest_indice = np.argmax(candidate_evaluations)\n",
    "        elif self.optimization == \"minimize\":\n",
    "            fittest_indice = np.argmin(candidate_evaluations)\n",
    "        if fittest_candidate == None:\n",
    "            fittest_candidate = (populations[fittest_indice,:],candidate_evaluations[fittest_indice])\n",
    "        \n",
    "        r1,r2,r3,r4 = self.__update_R(iteration,self.max_iter,self.a)\n",
    "        \n",
    "        populations[pop_id,:] = self.__update_population(populations[pop_id,:].reshape(1,-1),fittest_candidate[0],r1,r2,r3,r4,self.lb,self.ub)\n",
    "        \n",
    "        return populations\n",
    "        "
   ]
  },
  {
   "cell_type": "markdown",
   "id": "2003d5a4",
   "metadata": {},
   "source": [
    "### Testing the Algorithm"
   ]
  },
  {
   "cell_type": "code",
   "execution_count": 25,
   "id": "c358f124",
   "metadata": {},
   "outputs": [],
   "source": [
    "## Defining a simple objective function\n",
    "def obj(X):\n",
    "    sums=0\n",
    "    for i in X:\n",
    "        sums = sums+i*i\n",
    "    return sums\n",
    "dim = 30\n",
    "lb = np.array([-100]).repeat(dim)\n",
    "ub = np.array([100]).repeat(dim)\n",
    "\n",
    "##"
   ]
  },
  {
   "cell_type": "code",
   "execution_count": 26,
   "id": "0ced21de",
   "metadata": {
    "scrolled": true
   },
   "outputs": [
    {
     "name": "stdout",
     "output_type": "stream",
     "text": [
      "(array([5.69472044, 5.69472044, 5.69472044, 5.69472044, 5.69472044,\n",
      "       5.69472044, 5.69472044, 5.69472044, 5.69472044, 5.69472044,\n",
      "       5.69472044, 5.69472044, 5.69472044, 5.69472044, 5.69472044,\n",
      "       5.69472044, 5.69472044, 5.69472044, 5.69472044, 5.69472044,\n",
      "       5.69472044, 5.69472044, 5.69472044, 5.69472044, 5.69472044,\n",
      "       5.69472044, 5.69472044, 5.69472044, 5.69472044, 5.69472044]), 1.6890598067711703e-190)\n"
     ]
    }
   ],
   "source": [
    "max_iter=100\n",
    "population_size=100\n",
    "model = SineCosineOptimization()\n",
    "model.compile(obj,dim,lb,ub,max_iter=max_iter,population_size=population_size,optimization=\"minimize\")\n",
    "answer = model.calculate_optimal_value()\n",
    "print(answer)"
   ]
  },
  {
   "cell_type": "code",
   "execution_count": 9,
   "id": "6368f40c",
   "metadata": {},
   "outputs": [
    {
     "name": "stdout",
     "output_type": "stream",
     "text": [
      "(array([10., 10.]), 20.0)\n"
     ]
    }
   ],
   "source": [
    "def sums(X):\n",
    "    return X[0]+X[1]\n",
    "lb = np.array([-10,-10])\n",
    "ub = np.array([10,10])\n",
    "dimension = 2\n",
    "max_iter=50\n",
    "population_size=100\n",
    "model = SineCosineOptimization()\n",
    "model.compile(sums,dimension,lb,ub,max_iter=max_iter,population_size=population_size)\n",
    "answer = model.calculate_optimal_value()\n",
    "print(answer)"
   ]
  },
  {
   "cell_type": "code",
   "execution_count": 7,
   "id": "569dc385",
   "metadata": {},
   "outputs": [],
   "source": [
    "from benchmarking.benchmark import *\n",
    "function=[Sphere,Schwefel_2_22,Schwefel_1_2,Rosenbrock,Step,Quartic_with_noise,Ackley,SumSquare]"
   ]
  },
  {
   "cell_type": "code",
   "execution_count": 9,
   "id": "051834b6",
   "metadata": {},
   "outputs": [
    {
     "name": "stdout",
     "output_type": "stream",
     "text": [
      "Sphere ==> Min = 0.0 Max = 2.4091151906849863e-24 Mean = 8.030394899645851e-26\n",
      "Schwefel_2_22 ==> Min = -8.536039783389462e+28 Max = -1.682873950555546e+20 Mean = -2.926225388174297e+27\n",
      "Schwefel_1_2 ==> Min = 0.0 Max = 1.1158237728224243e-06 Mean = 3.719452256175562e-08\n",
      "Rosenbrock ==> Min = 8.19402161814641e-12 Max = 28.85377361614207 Mean = 4.2955389242937905\n",
      "Step ==> Min = 5.956863251526635e-08 Max = 5.065801211617219 Mean = 0.45611141965316837\n",
      "Quartic_with_noise ==> Min = 8.8320010000819 Max = 10.756087392211372 Mean = 9.662203184387556\n",
      "Ackley ==> Min = 4.440892098500626e-16 Max = 0.00036225890466257127 Mean = 1.922184642835963e-05\n",
      "SumSquare ==> Min = 0.0 Max = 6.710736128086787e-06 Mean = 2.2369130932231859e-07\n"
     ]
    }
   ],
   "source": [
    "for i in function:\n",
    "    func=i()\n",
    "    values=np.empty(30)\n",
    "    for l in range(30):\n",
    "        lb = np.array([func.range[0]]).repeat(func.dim)\n",
    "        ub = np.array([func.range[1]]).repeat(func.dim)\n",
    "        sca = SineCosineOptimization()\n",
    "        sca.compile(func.get_algorithm(),population_size=100,dimension=func.dim,lb=lb,ub=ub,max_iter=100,optimization = \"minimize\")\n",
    "        values[l]=sca.calculate_optimal_value()[-1]\n",
    "    print(f\"{func.name} ==> Min = {np.min(values)} Max = {np.max(values)} Mean = {np.mean(values)}\")"
   ]
  },
  {
   "cell_type": "code",
   "execution_count": null,
   "id": "cece787c",
   "metadata": {},
   "outputs": [],
   "source": []
  }
 ],
 "metadata": {
  "kernelspec": {
   "display_name": "Python 3 (ipykernel)",
   "language": "python",
   "name": "python3"
  },
  "language_info": {
   "codemirror_mode": {
    "name": "ipython",
    "version": 3
   },
   "file_extension": ".py",
   "mimetype": "text/x-python",
   "name": "python",
   "nbconvert_exporter": "python",
   "pygments_lexer": "ipython3",
   "version": "3.8.10"
  }
 },
 "nbformat": 4,
 "nbformat_minor": 5
}
