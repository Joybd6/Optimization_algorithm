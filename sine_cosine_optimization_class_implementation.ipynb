{
 "cells": [
  {
   "cell_type": "code",
   "execution_count": 1,
   "id": "b87add77",
   "metadata": {},
   "outputs": [],
   "source": [
    "import numpy as np"
   ]
  },
  {
   "cell_type": "code",
   "execution_count": 2,
   "id": "db822bc2",
   "metadata": {},
   "outputs": [],
   "source": [
    "class SineCosineOptimization():\n",
    "    def __init__(self):\n",
    "        ...\n",
    "        \n",
    "    def compile(self,obj,population_size,dimension,lb,ub,max_iter,a=2,optimization=\"minimize\"):\n",
    "        self.objective_function = obj\n",
    "        self.dimension = dimension\n",
    "        self.lb=lb\n",
    "        self.ub=ub\n",
    "        self.a=a\n",
    "        self.max_iter = max_iter\n",
    "        self.optimization = optimization\n",
    "        self.population_size=population_size\n",
    "    \n",
    "    def __initialize_population(self,population_size,dim,lb,ub):\n",
    "        return lb+np.random.rand(population_size,dim)*(ub-lb)\n",
    "    \n",
    "    def __update_R(self,current_iter,max_iter,a):\n",
    "        r1 = a-a*(current_iter/max_iter)\n",
    "        r2 = 2*np.pi*np.random.rand()\n",
    "        r3 = np.random.rand()\n",
    "        r4 = np.random.rand()\n",
    "    \n",
    "        return r1,r2,r3,r4\n",
    "    \n",
    "    def __update_population(self,populations,fittest_candidate,r1,r2,r3,r4,lb,ub):\n",
    "        if r4 < 0.5:\n",
    "            populations = populations + r1*np.sin(r2)*np.abs(r3*fittest_candidate-populations)\n",
    "        else:\n",
    "            populations = populations + r1*np.cos(r2)*np.abs(r3*fittest_candidate-populations)\n",
    "        \n",
    "        return np.clip(populations,lb,ub)\n",
    "    \n",
    "    def calculate_optimal_value(self):\n",
    "\n",
    "        #Initialize the variable for  fittest candidate\n",
    "        fittest_candidate=None\n",
    "        candidate_evaluations = np.empty([self.population_size])\n",
    "\n",
    "        #Initialize the random population\n",
    "        populations = self.__initialize_population(self.population_size,self.dimension,self.lb,self.ub)\n",
    "\n",
    "        ## This is the iteration loop.\n",
    "        for i in range(self.max_iter):\n",
    "\n",
    "            ## This loop will go through the all population of candidate and process them one by one\n",
    "            for j in range(populations.shape[0]):\n",
    "                candidate_evaluations[j]=self.objective_function(populations[j,:])\n",
    "\n",
    "\n",
    "            ## Determining the fittest candidate\n",
    "            if self.optimization == \"maximize\":\n",
    "                fittest_indice = np.argmax(candidate_evaluations)\n",
    "            elif self.optimization == \"minimize\":\n",
    "                fittest_indice = np.argmin(candidate_evaluations)\n",
    "\n",
    "\n",
    "            ## Updating the fittest candidate\n",
    "\n",
    "            if fittest_candidate == None:\n",
    "                fittest_candidate = (populations[fittest_indice,:],candidate_evaluations[fittest_indice])\n",
    "            else:\n",
    "                current_fittest = (populations[fittest_indice,:],candidate_evaluations[fittest_indice])\n",
    "                if self.optimization == \"maximize\" and fittest_candidate[1] < current_fittest[1]:\n",
    "                    fittest_candidate = current_fittest\n",
    "\n",
    "                if self.optimization == \"minimize\" and fittest_candidate[1] > current_fittest[1]:\n",
    "                    fittest_candidate = current_fittest\n",
    "\n",
    "            ## Updating the value of r1,r2,r3, and r4\n",
    "            r1,r2,r3,r4 = self.__update_R(i,self.max_iter,self.a)\n",
    "\n",
    "            ## Update the population\n",
    "            \n",
    "            for index,value in enumerate(populations):\n",
    "                populations[index:] = self.__update_population(value,fittest_candidate[0],r1,r2,r3,r4,self.lb,self.ub)\n",
    "\n",
    "    \n",
    "\n",
    "        return fittest_candidate\n",
    "    \n",
    "    def one_step_update(self,populations,pop_id,iteration,fittest_candidate=None):\n",
    "        \n",
    "        # Initialize candidate evaluation variables\n",
    "        candidate_evaluations = np.empty([self.population_size])\n",
    "        \n",
    "        # Calculate the candidate evaluation using objective function\n",
    "        for j in range(populations.shape[0]):\n",
    "            candidate_evaluations[j]=self.objective_function(populations[j,:])\n",
    "        \n",
    "         ## Determining the fittest candidate\n",
    "        if self.optimization == \"maximize\":\n",
    "            fittest_indice = np.argmax(candidate_evaluations)\n",
    "        elif self.optimization == \"minimize\":\n",
    "            fittest_indice = np.argmin(candidate_evaluations)\n",
    "        if fittest_candidate == None:\n",
    "            fittest_candidate = (populations[fittest_indice,:],candidate_evaluations[fittest_indice])\n",
    "        \n",
    "        r1,r2,r3,r4 = self.__update_R(iteration,self.max_iter,self.a)\n",
    "        \n",
    "        populations[pop_id,:] = self.__update_population(populations[pop_id,:].reshape(1,-1),fittest_candidate[0],r1,r2,r3,r4,self.lb,self.ub)\n",
    "        \n",
    "        return populations\n",
    "        "
   ]
  },
  {
   "cell_type": "markdown",
   "id": "2003d5a4",
   "metadata": {},
   "source": [
    "### Testing the Algorithm"
   ]
  },
  {
   "cell_type": "code",
   "execution_count": 5,
   "id": "569dc385",
   "metadata": {},
   "outputs": [],
   "source": [
    "from benchmarking.benchmark import *\n",
    "function=[Sphere,Schwefel_2_22,Schwefel_1_2,Rosenbrock,Step,Quartic_with_noise,Ackley,SumSquare]"
   ]
  },
  {
   "cell_type": "code",
   "execution_count": 7,
   "id": "051834b6",
   "metadata": {},
   "outputs": [
    {
     "name": "stdout",
     "output_type": "stream",
     "text": [
      "Sphere ==> Min = 0.0 Max = 1.5673105201673e-13 Mean = 5.224368400558777e-15\n",
      "Schwefel_2_22 ==> Min = -1.2141690325736208e+28 Max = -3.080013647387586e+20 Mean = -7.226968549379549e+26\n",
      "Schwefel_1_2 ==> Min = 0.0 Max = 6.52373870690192e-07 Mean = 2.1745795689673065e-08\n",
      "Rosenbrock ==> Min = 9.04652345598613e-05 Max = 28.901853246259797 Mean = 6.351438905476915\n",
      "Step ==> Min = 8.770784639940323e-07 Max = 4.038026920094468 Mean = 0.15171552107183753\n",
      "Quartic_with_noise ==> Min = 8.409971701426509 Max = 10.569960641863439 Mean = 9.60213716487096\n",
      "Ackley ==> Min = 4.440892098500626e-16 Max = 5.666267455239904e-11 Mean = 1.88989564738525e-12\n",
      "SumSquare ==> Min = 8.303682220248124e-290 Max = 5.449512270508335e-13 Mean = 3.7432702969413885e-14\n"
     ]
    }
   ],
   "source": [
    "for i in function:\n",
    "    func=i()\n",
    "    values=np.empty(30)\n",
    "    for l in range(30):\n",
    "        lb = np.array([func.range[0]]).repeat(func.dim)\n",
    "        ub = np.array([func.range[1]]).repeat(func.dim)\n",
    "        sca = SineCosineOptimization()\n",
    "        sca.compile(func.get_algorithm(),population_size=100,dimension=func.dim,lb=lb,ub=ub,max_iter=100,optimization = \"minimize\")\n",
    "        values[l]=sca.calculate_optimal_value()[-1]\n",
    "    print(f\"{func.name} ==> Min = {np.min(values)} Max = {np.max(values)} Mean = {np.mean(values)}\")"
   ]
  },
  {
   "cell_type": "code",
   "execution_count": null,
   "id": "cece787c",
   "metadata": {},
   "outputs": [],
   "source": []
  }
 ],
 "metadata": {
  "kernelspec": {
   "display_name": "Python 3 (ipykernel)",
   "language": "python",
   "name": "python3"
  },
  "language_info": {
   "codemirror_mode": {
    "name": "ipython",
    "version": 3
   },
   "file_extension": ".py",
   "mimetype": "text/x-python",
   "name": "python",
   "nbconvert_exporter": "python",
   "pygments_lexer": "ipython3",
   "version": "3.8.10"
  }
 },
 "nbformat": 4,
 "nbformat_minor": 5
}
